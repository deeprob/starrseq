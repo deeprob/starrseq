{
 "cells": [
  {
   "cell_type": "markdown",
   "metadata": {},
   "source": [
    "Make a json file which has all global info required to run pipelines"
   ]
  },
  {
   "cell_type": "code",
   "execution_count": 2,
   "metadata": {},
   "outputs": [],
   "source": [
    "import json"
   ]
  },
  {
   "cell_type": "code",
   "execution_count": 3,
   "metadata": {},
   "outputs": [],
   "source": [
    "metadata_filename = \"metadata.json\""
   ]
  },
  {
   "cell_type": "code",
   "execution_count": 4,
   "metadata": {},
   "outputs": [],
   "source": [
    "file_data_dict = {\n",
    "\n",
    "    \"input\":{\n",
    "        \"prefix\":\"/data5/deepro/starrseq/main_lib/raw_data/Input_SeqReady\", \n",
    "        \"replicates\":\"A1_R1_S1 B1_R2_S2 C1_R3_S3\", \n",
    "        \"read_pairs\":\"R1 R3\", \n",
    "        \"umi\":\"R2\", \n",
    "        \"suffix\":\"001.fastq.gz\"\n",
    "        },\n",
    "    \"control\":{\n",
    "        \"prefix\":\"/data5/deepro/starrseq/main_lib/raw_data/CC\", \n",
    "        \"replicates\":\"R1_STARR_Seq_S4 R2_STARR_Seq_S5 R3_STARR_Seq_S6\", \n",
    "        \"read_pairs\":\"R1 R3\", \n",
    "        \"umi\":\"R2\", \n",
    "        \"suffix\":\"001.fastq.gz\"\n",
    "        },\n",
    "    \"16p12.1\":{\n",
    "        \"prefix\":\"/data5/deepro/starrseq/main_lib/raw_data/16P12_1\", \n",
    "        \"replicates\":\"R1_STARR_Seq_S25 R2_STARR_Seq_S26 R3_STARR_Seq_S27\", \n",
    "        \"read_pairs\":\"R1 R3\", \n",
    "        \"umi\":\"R2\", \n",
    "        \"suffix\":\"001.fastq.gz\"\n",
    "        },\n",
    "    \"atf2\":{\n",
    "        \"prefix\":\"/data5/deepro/starrseq/main_lib/raw_data/ATF2\", \n",
    "        \"replicates\":\"R1_STARR_Seq_S10 R2_STARR_Seq_S11 R3_STARR_Seq_S12\", \n",
    "        \"read_pairs\":\"R1 R3\", \n",
    "        \"umi\":\"R2\", \n",
    "        \"suffix\":\"001.fastq.gz\"\n",
    "        },\n",
    "    \"ctcf\":{\n",
    "        \"prefix\":\"/data5/deepro/starrseq/main_lib/raw_data/CTCF\", \n",
    "        \"replicates\":\"R1_STARR_Seq_S13 R2_STARR_Seq_S14 R3_STARR_Seq_S15\", \n",
    "        \"read_pairs\":\"R1 R3\", \n",
    "        \"umi\":\"R2\", \n",
    "        \"suffix\":\"001.fastq.gz\"\n",
    "        },\n",
    "    \"foxa1\":{\n",
    "        \"prefix\":\"/data5/deepro/starrseq/main_lib/raw_data/FOXA1\", \n",
    "        \"replicates\":\"R1_STARR_Seq_S7 R2_STARR_Seq_S8 R3_STARR_Seq_S9\", \n",
    "        \"read_pairs\":\"R1 R3\", \n",
    "        \"umi\":\"R2\", \n",
    "        \"suffix\":\"001.fastq.gz\"\n",
    "        },\n",
    "    \"lef1\":{\n",
    "        \"prefix\":\"/data5/deepro/starrseq/main_lib/raw_data/LEF1\", \n",
    "        \"replicates\":\"R1_STARR_Seq_S19 R2_STARR_Seq_S20 R3_STARR_Seq_S21\", \n",
    "        \"read_pairs\":\"R1 R3\", \n",
    "        \"umi\":\"R2\", \n",
    "        \"suffix\":\"001.fastq.gz\"\n",
    "        },\n",
    "    \"scrt1\":{\n",
    "        \"prefix\":\"/data5/deepro/starrseq/main_lib/raw_data/SCRT1\", \n",
    "        \"replicates\":\"R1_STARR_Seq_S16 R2_STARR_Seq_S17 R3_STARR_Seq_S18\", \n",
    "        \"read_pairs\":\"R1 R3\", \n",
    "        \"umi\":\"R2\", \n",
    "        \"suffix\":\"001.fastq.gz\"\n",
    "        },\n",
    "    \"tcf7l2\":{\n",
    "        \"prefix\":\"/data5/deepro/starrseq/main_lib/raw_data/TCF7L2\", \n",
    "        \"replicates\":\"R1_STARR_Seq_S22 R2_STARR_Seq_S23 R3_STARR_Seq_S24\", \n",
    "        \"read_pairs\":\"R1 R3\", \n",
    "        \"umi\":\"R2\", \n",
    "        \"suffix\":\"001.fastq.gz\"\n",
    "        },\n",
    "\n",
    "}"
   ]
  },
  {
   "cell_type": "code",
   "execution_count": 5,
   "metadata": {},
   "outputs": [],
   "source": [
    "with open(metadata_filename, \"w\") as f:  \n",
    "    json.dump(file_data_dict, f, indent=4)"
   ]
  },
  {
   "cell_type": "code",
   "execution_count": 6,
   "metadata": {},
   "outputs": [],
   "source": [
    "with open(metadata_filename, \"r\") as f:  \n",
    "    metadata_dict = json.load(f)"
   ]
  },
  {
   "cell_type": "code",
   "execution_count": null,
   "metadata": {},
   "outputs": [],
   "source": []
  }
 ],
 "metadata": {
  "interpreter": {
   "hash": "241e687e2a6674f2e504bb42d794692c309af558d00106a9753b31f4422e62b4"
  },
  "kernelspec": {
   "display_name": "Python 3.9.7 64-bit ('starrseq': conda)",
   "language": "python",
   "name": "python3"
  },
  "language_info": {
   "codemirror_mode": {
    "name": "ipython",
    "version": 3
   },
   "file_extension": ".py",
   "mimetype": "text/x-python",
   "name": "python",
   "nbconvert_exporter": "python",
   "pygments_lexer": "ipython3",
   "version": "3.9.7"
  },
  "orig_nbformat": 4
 },
 "nbformat": 4,
 "nbformat_minor": 2
}
