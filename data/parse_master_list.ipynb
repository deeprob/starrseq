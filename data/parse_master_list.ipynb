{
 "cells": [
  {
   "cell_type": "code",
   "execution_count": 2,
   "metadata": {},
   "outputs": [],
   "source": [
    "import pandas as pd"
   ]
  },
  {
   "cell_type": "markdown",
   "metadata": {},
   "source": [
    "# Create a bed file to work with homer as background sequence\n",
    "\n",
    "Homer bed file format\n",
    "|chrm|start|end|unique_id|not_used|strand\n",
    "|---|---|---|---|---|---|"
   ]
  },
  {
   "cell_type": "code",
   "execution_count": 3,
   "metadata": {},
   "outputs": [],
   "source": [
    "master_sorted_bed = \"./master.sorted.bed\"\n",
    "master_homer_bed = \"./master.homer.bed\"\n",
    "\n",
    "df_sorted = pd.read_csv(master_sorted_bed, sep=\"\\t\",  header=None)"
   ]
  },
  {
   "cell_type": "code",
   "execution_count": 4,
   "metadata": {},
   "outputs": [],
   "source": [
    "def create_unique_id(row):\n",
    "    return str(row.iloc[0]) + \":\" + str(row.iloc[1]) + \"-\" + str(row.iloc[2])\n",
    "\n",
    "def create_useless_col(row):\n",
    "    return 0\n",
    "\n",
    "def create_strand_col(row):\n",
    "    return \".\""
   ]
  },
  {
   "cell_type": "code",
   "execution_count": 5,
   "metadata": {},
   "outputs": [],
   "source": [
    "df_sorted[4] = df_sorted.apply(create_unique_id, axis=1)\n",
    "df_sorted[5] = df_sorted.apply(create_useless_col, axis=1)\n",
    "df_sorted[6] = df_sorted.apply(create_strand_col, axis=1)"
   ]
  },
  {
   "cell_type": "code",
   "execution_count": 17,
   "metadata": {},
   "outputs": [],
   "source": [
    "df_sorted.loc[~df_sorted[4].duplicated()].to_csv(master_homer_bed, sep=\"\\t\", header=None, index=False)"
   ]
  },
  {
   "cell_type": "code",
   "execution_count": null,
   "metadata": {},
   "outputs": [],
   "source": []
  }
 ],
 "metadata": {
  "interpreter": {
   "hash": "241e687e2a6674f2e504bb42d794692c309af558d00106a9753b31f4422e62b4"
  },
  "kernelspec": {
   "display_name": "Python 3.9.7 64-bit ('starrseq': conda)",
   "language": "python",
   "name": "python3"
  },
  "language_info": {
   "codemirror_mode": {
    "name": "ipython",
    "version": 3
   },
   "file_extension": ".py",
   "mimetype": "text/x-python",
   "name": "python",
   "nbconvert_exporter": "python",
   "pygments_lexer": "ipython3",
   "version": "3.9.7"
  },
  "orig_nbformat": 4
 },
 "nbformat": 4,
 "nbformat_minor": 2
}
