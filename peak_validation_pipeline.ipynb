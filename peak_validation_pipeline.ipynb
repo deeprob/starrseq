{
 "cells": [
  {
   "cell_type": "markdown",
   "metadata": {},
   "source": [
    "# Check notebook is using the correct conda environment"
   ]
  },
  {
   "cell_type": "code",
   "execution_count": 1,
   "metadata": {},
   "outputs": [
    {
     "name": "stdout",
     "output_type": "stream",
     "text": [
      "/data5/deepro/miniconda3/envs/starrseq/bin/python\n"
     ]
    }
   ],
   "source": [
    "!which python"
   ]
  },
  {
   "cell_type": "markdown",
   "metadata": {},
   "source": [
    "# Import modules"
   ]
  },
  {
   "cell_type": "code",
   "execution_count": 2,
   "metadata": {},
   "outputs": [],
   "source": [
    "import sys\n",
    "import pandas as pd"
   ]
  },
  {
   "cell_type": "code",
   "execution_count": 3,
   "metadata": {},
   "outputs": [],
   "source": [
    "# internal modules\n",
    "sys.path.append(\"./src/\")"
   ]
  },
  {
   "cell_type": "code",
   "execution_count": 4,
   "metadata": {},
   "outputs": [],
   "source": [
    "from create_arguments import create_args\n",
    "from utils.process_regions import get_intersects, get_non_intersects\n",
    "from utils.validation_helper import get_tsv, get_cradle_activated, get_mea"
   ]
  },
  {
   "cell_type": "markdown",
   "metadata": {},
   "source": [
    "# Arguments"
   ]
  },
  {
   "cell_type": "code",
   "execution_count": 5,
   "metadata": {},
   "outputs": [],
   "source": [
    "# TODO: make the arguments proper\n",
    "##### METADATA #####\n",
    "meta_file = \"./data/metadata.json\"\n",
    "\n",
    "##### GLOBALS #####\n",
    "KO_NAME = \"atf2\" # can be 16p12.1, atf2, ctcf, foxa1, lef1, scrt1, tcf7l2\n",
    "REFGEN = \"/data5/deepro/genomes/GRCh38_no_alt_analysis_set_GCA_000001405.15.fasta\"\n",
    "ROISORTED = \"/afs/bx.psu.edu/user/d/dzb5732/work/girirajan_lab/starrseq/data/master.sorted.bed\"\n",
    "ROIMASTER = \"/afs/bx.psu.edu/user/d/dzb5732/work/girirajan_lab/starrseq/data/enhancer_master_list_hek293.bed\"\n",
    "\n",
    "##### FLAGS #####\n",
    "RUN=True\n",
    "INPUT_FLAG=True\n",
    "CONTROL_FLAG=True\n",
    "\n",
    "args = create_args(meta_file, KO_NAME, REFGEN, ROIMASTER, ROISORTED, \n",
    "                run=RUN, input_flag=INPUT_FLAG, control_flag=CONTROL_FLAG)"
   ]
  },
  {
   "cell_type": "markdown",
   "metadata": {},
   "source": [
    "# Peaks - preliminary validation"
   ]
  },
  {
   "cell_type": "markdown",
   "metadata": {},
   "source": [
    "## Direct active regions\n",
    "Peaks/regions present in the Control file but not in the KO file must be active when the KO TF is present"
   ]
  },
  {
   "cell_type": "code",
   "execution_count": 6,
   "metadata": {},
   "outputs": [],
   "source": [
    "if args.run:\n",
    "    # starrpeaker\n",
    "    get_non_intersects(args.control_peak_file, args.ko_peak_file, args.ko_dactive_file)\n",
    "    # cradle\n",
    "    ## get activated peaks called by cradle\n",
    "    get_cradle_activated(args.cradle_control_peak_file, args.cradle_control_activated_file)\n",
    "    get_cradle_activated(args.cradle_ko_peak_file, args.cradle_ko_activated_file)\n",
    "    ## get the non intersects between control and ko activated peaks\n",
    "    get_non_intersects(args.cradle_control_activated_file, args.cradle_ko_activated_file, args.cradle_ko_dactive_file)\n",
    "    "
   ]
  },
  {
   "cell_type": "markdown",
   "metadata": {},
   "source": [
    "### Check number of direct active peaks corresponding to the KO'd TF already annotated in the master file"
   ]
  },
  {
   "cell_type": "code",
   "execution_count": 11,
   "metadata": {},
   "outputs": [],
   "source": [
    "if args.run:\n",
    "    # starrpeaker\n",
    "    get_intersects(args.region_of_interest_master, args.ko_dactive_file, args.ko_daannotated_file)\n",
    "    # cradle\n",
    "    get_intersects(args.region_of_interest_master, args.cradle_ko_dactive_file, args.cradle_ko_daannotated_file)"
   ]
  },
  {
   "cell_type": "code",
   "execution_count": 16,
   "metadata": {},
   "outputs": [
    {
     "name": "stdout",
     "output_type": "stream",
     "text": [
      "33.463 percent of the starrpeaker direct active peaks are already validated\n",
      "16.605 percent the cradle direct active peaks are already validated\n"
     ]
    }
   ],
   "source": [
    "df_master = pd.read_csv(args.region_of_interest_master, sep=\"\\t\")\n",
    "df_averify = pd.read_csv(args.ko_daannotated_file, sep=\"\\t\", header=None, names=df_master.columns)\n",
    "df_caverify = pd.read_csv(args.cradle_ko_daannotated_file, sep=\"\\t\", header=None, names=df_master.columns)\n",
    "df_validated = df_averify.loc[df_averify[args.ko_name]==1].loc[:, [\"Chrom\", \"Start\", \"End\", args.ko_name]]\n",
    "df_cvalidated = df_caverify.loc[df_caverify[args.ko_name]==1].loc[:, [\"Chrom\", \"Start\", \"End\", args.ko_name]]\n",
    "\n",
    "print(f\"{round(len(df_validated)*100/len(df_averify), 3)} percent of the starrpeaker direct active peaks are already validated\")\n",
    "print(f\"{round(len(df_cvalidated)*100/len(df_caverify), 3)} percent the cradle direct active peaks are already validated\")"
   ]
  },
  {
   "cell_type": "markdown",
   "metadata": {},
   "source": [
    "### Look at sum of columns to see which TFs have maximal associations with the activated sites"
   ]
  },
  {
   "cell_type": "code",
   "execution_count": 17,
   "metadata": {},
   "outputs": [
    {
     "data": {
      "text/plain": [
       "eGFP-ZBTB17    509\n",
       "eGFP-ZNF335    482\n",
       "eGFP-SP7       469\n",
       "eGFP-PRDM6     465\n",
       "eGFP-ZNF629    465\n",
       "eGFP-PRDM10    461\n",
       "eGFP-ZNF366    429\n",
       "eGFP-ZEB2      428\n",
       "eGFP-FEZF1     426\n",
       "eGFP-ZNF692    393\n",
       "eGFP-OSR2      383\n",
       "eGFP-GLIS1     379\n",
       "eGFP-IKZF3     375\n",
       "TRIM28         373\n",
       "eGFP-ZNF660    367\n",
       "eGFP-PATZ1     352\n",
       "eGFP-ZNF600    350\n",
       "eGFP-ATF2      344\n",
       "eGFP-ZIC2      333\n",
       "eGFP-ZXDB      333\n",
       "eGFP-ZNF189    317\n",
       "eGFP-ZBTB44    317\n",
       "eGFP-ZNF843    311\n",
       "eGFP-ZNF24     306\n",
       "eGFP-ZFP69B    291\n",
       "dtype: int64"
      ]
     },
     "execution_count": 17,
     "metadata": {},
     "output_type": "execute_result"
    }
   ],
   "source": [
    "df_averify.iloc[:, 4:].sum().sort_values(ascending=False).head(25)"
   ]
  },
  {
   "cell_type": "code",
   "execution_count": 18,
   "metadata": {},
   "outputs": [
    {
     "data": {
      "text/plain": [
       "eGFP-PRDM6     10688\n",
       "eGFP-FEZF1      8028\n",
       "eGFP-OSR2       7712\n",
       "eGFP-ZBTB17     7238\n",
       "eGFP-SP7        7228\n",
       "eGFP-PRDM10     6711\n",
       "eGFP-ZNF629     6565\n",
       "eGFP-GLIS1      6176\n",
       "eGFP-ZNF843     6163\n",
       "eGFP-ZNF335     6052\n",
       "eGFP-ZNF366     5953\n",
       "eGFP-ZXDB       5896\n",
       "eGFP-ZEB2       5835\n",
       "eGFP-ZNF600     5710\n",
       "eGFP-IKZF3      5603\n",
       "eGFP-WT1        5301\n",
       "PKNOX1          5041\n",
       "TRIM28          4956\n",
       "eGFP-ZNF189     4950\n",
       "eGFP-ZIC2       4864\n",
       "eGFP-ZBTB44     4581\n",
       "eGFP-ZNF692     4555\n",
       "eGFP-PATZ1      4546\n",
       "eGFP-PRDM1      4517\n",
       "eGFP-PRDM4      4430\n",
       "dtype: int64"
      ]
     },
     "execution_count": 18,
     "metadata": {},
     "output_type": "execute_result"
    }
   ],
   "source": [
    "df_caverify.iloc[:, 4:].sum().sort_values(ascending=False).head(25)"
   ]
  },
  {
   "cell_type": "markdown",
   "metadata": {},
   "source": [
    "## Direct inactive regions\n",
    "Peaks/regions present in the KO file but not in the Control file must be inavtive when the KO TF is present"
   ]
  },
  {
   "cell_type": "code",
   "execution_count": 19,
   "metadata": {},
   "outputs": [],
   "source": [
    "if RUN:\n",
    "    # starrpeaker\n",
    "    get_non_intersects(args.ko_peak_file, args.control_peak_file, args.ko_dinactive_file)\n",
    "    # cradle\n",
    "    ## get the non intersects between ko and control activated peaks\n",
    "    get_non_intersects(args.cradle_ko_activated_file, args.cradle_control_activated_file, args.cradle_ko_dinactive_file)\n"
   ]
  },
  {
   "cell_type": "markdown",
   "metadata": {},
   "source": [
    "### Look at sum of columns to see which TFs have maximal associations with the repressed sites"
   ]
  },
  {
   "cell_type": "code",
   "execution_count": 20,
   "metadata": {},
   "outputs": [],
   "source": [
    "# repressed\n",
    "if RUN:\n",
    "    # starrpeaker\n",
    "    get_intersects(args.region_of_interest_master, args.ko_dinactive_file, args.ko_diannotated_file)\n",
    "    # cradle\n",
    "    get_intersects(args.region_of_interest_master, args.cradle_ko_dinactive_file, args.cradle_ko_diannotated_file)"
   ]
  },
  {
   "cell_type": "code",
   "execution_count": 21,
   "metadata": {},
   "outputs": [],
   "source": [
    "df_rverify = pd.read_csv(args.ko_diannotated_file, sep=\"\\t\", header=None, names=df_master.columns)\n",
    "df_crverify = pd.read_csv(args.cradle_ko_diannotated_file, sep=\"\\t\", header=None, names=df_master.columns)"
   ]
  },
  {
   "cell_type": "code",
   "execution_count": 23,
   "metadata": {},
   "outputs": [
    {
     "data": {
      "text/plain": [
       "eGFP-ZNF629    97\n",
       "eGFP-SP7       93\n",
       "eGFP-ZBTB17    90\n",
       "eGFP-ZEB2      79\n",
       "eGFP-ZNF366    78\n",
       "eGFP-OSR2      74\n",
       "eGFP-KLF8      69\n",
       "eGFP-GLIS1     69\n",
       "eGFP-PRDM10    68\n",
       "eGFP-ZNF600    67\n",
       "eGFP-ZNF335    66\n",
       "eGFP-ZNF189    65\n",
       "eGFP-ZNF398    65\n",
       "eGFP-ZXDB      63\n",
       "eGFP-FEZF1     62\n",
       "eGFP-PATZ1     62\n",
       "eGFP-HIC1      61\n",
       "eGFP-PRDM6     60\n",
       "eGFP-ZNF394    59\n",
       "eGFP-ATF2      58\n",
       "eGFP-ZNF692    58\n",
       "eGFP-ZFP69B    57\n",
       "eGFP-ZNF24     57\n",
       "eGFP-ZNF639    56\n",
       "eGFP-INSM2     56\n",
       "dtype: int64"
      ]
     },
     "execution_count": 23,
     "metadata": {},
     "output_type": "execute_result"
    }
   ],
   "source": [
    "df_rverify.iloc[:, 4:].sum().sort_values(ascending=False).head(25)"
   ]
  },
  {
   "cell_type": "code",
   "execution_count": 24,
   "metadata": {},
   "outputs": [
    {
     "data": {
      "text/plain": [
       "eGFP-PRDM6     1167\n",
       "eGFP-SP7       1009\n",
       "eGFP-FEZF1      989\n",
       "eGFP-ZBTB17     978\n",
       "eGFP-OSR2       943\n",
       "eGFP-ZNF629     926\n",
       "eGFP-PRDM10     924\n",
       "eGFP-GLIS1      904\n",
       "eGFP-ZNF366     860\n",
       "eGFP-ZNF335     848\n",
       "eGFP-ZEB2       804\n",
       "eGFP-ZNF600     796\n",
       "eGFP-ZNF843     782\n",
       "eGFP-ZXDB       777\n",
       "eGFP-ZNF189     736\n",
       "eGFP-ZIC2       735\n",
       "eGFP-IKZF3      733\n",
       "eGFP-WT1        702\n",
       "eGFP-PATZ1      698\n",
       "eGFP-ZNF692     685\n",
       "PKNOX1          630\n",
       "eGFP-ZNF398     613\n",
       "eGFP-PRDM1      594\n",
       "eGFP-SCRT2      590\n",
       "TRIM28          586\n",
       "dtype: int64"
      ]
     },
     "execution_count": 24,
     "metadata": {},
     "output_type": "execute_result"
    }
   ],
   "source": [
    "df_crverify.iloc[:, 4:].sum().sort_values(ascending=False).head(25)"
   ]
  },
  {
   "cell_type": "markdown",
   "metadata": {},
   "source": [
    "## Comparison with CRADLE"
   ]
  },
  {
   "cell_type": "code",
   "execution_count": 30,
   "metadata": {},
   "outputs": [
    {
     "name": "stdout",
     "output_type": "stream",
     "text": [
      "**************************************\n",
      "CONTROL PEAKS CALLED\n",
      "STARRPEAKER\n",
      "1437\n",
      "CRADLE\n",
      "27500\n",
      "CONTROL INTERSECTING PEAKS: STARRPEAKER IN CRADLE\n",
      "1421\n",
      "CONTROL INTERSECTING PEAKS: CRADLE IN STARRPEAKER\n",
      "1625\n",
      "**************************************\n",
      "KO PEAKS CALLED\n",
      "STARRPEAKER\n",
      "669\n",
      "CRADLE\n",
      "11197\n",
      "KO INTERSECTING PEAKS: STARRPEAKER IN CRADLE\n",
      "594\n",
      "KO INTERSECTING PEAKS: CRADLE IN STARRPEAKER\n",
      "836\n",
      "**************************************\n",
      "KO DIRECT ACTIVE PEAKS CALLED\n",
      "STARRPEAKER\n",
      "912\n",
      "CRADLE\n",
      "20119\n",
      "KO INTERSECTING DIRECT ACTIVE PEAKS: STARRPEAKER IN CRADLE\n",
      "364\n",
      "KO INTERSECTING DIRECT ACTIVE PEAKS: CRADLE IN STARRPEAKER\n",
      "420\n",
      "**************************************\n",
      "KO DIRECT INACTIVE PEAKS CALLED\n",
      "STARRPEAKER\n",
      "146\n",
      "CRADLE\n",
      "2528\n",
      "KO INTERSECTING DIRECT INACTIVE PEAKS: STARRPEAKER IN CRADLE\n",
      "29\n",
      "KO INTERSECTING DIRECT INACTIVE PEAKS: CRADLE IN STARRPEAKER\n",
      "39\n",
      "**************************************\n"
     ]
    }
   ],
   "source": [
    "print(\"**************************************\")\n",
    "print(\"CONTROL PEAKS CALLED\")\n",
    "print(\"STARRPEAKER\")\n",
    "!cat $args.control_peak_file | wc -l\n",
    "print(\"CRADLE\")\n",
    "!cat $args.cradle_control_activated_file | wc -l\n",
    "print(\"CONTROL INTERSECTING PEAKS: STARRPEAKER IN CRADLE\")\n",
    "!bedtools intersect -a $args.control_peak_file -b $args.cradle_control_activated_file -u | wc -l\n",
    "print(\"CONTROL INTERSECTING PEAKS: CRADLE IN STARRPEAKER\")\n",
    "!bedtools intersect -b $args.control_peak_file -a $args.cradle_control_activated_file -u | wc -l\n",
    "print(\"**************************************\")\n",
    "print(\"KO PEAKS CALLED\")\n",
    "print(\"STARRPEAKER\")\n",
    "!cat $args.ko_peak_file | wc -l\n",
    "print(\"CRADLE\")\n",
    "!cat $args.cradle_ko_activated_file | wc -l\n",
    "print(\"KO INTERSECTING PEAKS: STARRPEAKER IN CRADLE\")\n",
    "!bedtools intersect -a $args.ko_peak_file -b $args.cradle_ko_activated_file -u | wc -l\n",
    "print(\"KO INTERSECTING PEAKS: CRADLE IN STARRPEAKER\")\n",
    "!bedtools intersect -b $args.ko_peak_file -a $args.cradle_ko_activated_file -u | wc -l\n",
    "print(\"**************************************\")\n",
    "print(\"KO DIRECT ACTIVE PEAKS CALLED\")\n",
    "print(\"STARRPEAKER\")\n",
    "!cat $args.ko_dactive_file | wc -l\n",
    "print(\"CRADLE\")\n",
    "!cat $args.cradle_ko_dactive_file | wc -l\n",
    "print(\"KO INTERSECTING DIRECT ACTIVE PEAKS: STARRPEAKER IN CRADLE\")\n",
    "!bedtools intersect -a $args.ko_dactive_file -b $args.cradle_ko_dactive_file -u | wc -l\n",
    "print(\"KO INTERSECTING DIRECT ACTIVE PEAKS: CRADLE IN STARRPEAKER\")\n",
    "!bedtools intersect -b $args.ko_dactive_file -a $args.cradle_ko_dactive_file -u | wc -l\n",
    "print(\"**************************************\")\n",
    "print(\"KO DIRECT INACTIVE PEAKS CALLED\")\n",
    "print(\"STARRPEAKER\")\n",
    "!cat $args.ko_dinactive_file | wc -l\n",
    "print(\"CRADLE\")\n",
    "!cat $args.cradle_ko_dinactive_file | wc -l\n",
    "print(\"KO INTERSECTING DIRECT INACTIVE PEAKS: STARRPEAKER IN CRADLE\")\n",
    "!bedtools intersect -a $args.ko_dinactive_file -b $args.cradle_ko_dinactive_file -u | wc -l\n",
    "print(\"KO INTERSECTING DIRECT INACTIVE PEAKS: CRADLE IN STARRPEAKER\")\n",
    "!bedtools intersect -b $args.ko_dinactive_file -a $args.cradle_ko_dinactive_file -u | wc -l\n",
    "print(\"**************************************\")"
   ]
  },
  {
   "cell_type": "markdown",
   "metadata": {},
   "source": [
    "## Motif Enrichment Analysis using HOMER"
   ]
  },
  {
   "cell_type": "markdown",
   "metadata": {},
   "source": [
    "### Direct Active Regions"
   ]
  },
  {
   "cell_type": "code",
   "execution_count": 6,
   "metadata": {},
   "outputs": [],
   "source": [
    "if args.run:\n",
    "    # starrpeaker active\n",
    "    get_mea(args.ko_dactive_file, args.reference_genome, args.region_of_interest_homer_background, args.ko_dactive_mea_dir)\n",
    "    # cradle active\n",
    "    get_mea(args.cradle_ko_dactive_file, args.reference_genome, args.region_of_interest_homer_background, args.cradle_ko_dactive_mea_dir)"
   ]
  },
  {
   "cell_type": "markdown",
   "metadata": {},
   "source": [
    "### Direct Inactive Regions"
   ]
  },
  {
   "cell_type": "code",
   "execution_count": null,
   "metadata": {},
   "outputs": [],
   "source": [
    "if args.run:\n",
    "    # starrpeaker inactive\n",
    "    get_mea(args.ko_dinactive_file, args.reference_genome, args.region_of_interest_homer_background, args.ko_dinactive_mea_dir)\n",
    "    # cradle inactive\n",
    "    get_mea(args.cradle_ko_dinactive_file, args.reference_genome, args.region_of_interest_homer_background, args.cradle_ko_dinactive_mea_dir)"
   ]
  },
  {
   "cell_type": "code",
   "execution_count": null,
   "metadata": {},
   "outputs": [],
   "source": []
  }
 ],
 "metadata": {
  "interpreter": {
   "hash": "241e687e2a6674f2e504bb42d794692c309af558d00106a9753b31f4422e62b4"
  },
  "kernelspec": {
   "display_name": "Python 3.9.7 64-bit ('starrseq': conda)",
   "name": "python3"
  },
  "language_info": {
   "codemirror_mode": {
    "name": "ipython",
    "version": 3
   },
   "file_extension": ".py",
   "mimetype": "text/x-python",
   "name": "python",
   "nbconvert_exporter": "python",
   "pygments_lexer": "ipython3",
   "version": "3.9.7"
  },
  "orig_nbformat": 4
 },
 "nbformat": 4,
 "nbformat_minor": 2
}
