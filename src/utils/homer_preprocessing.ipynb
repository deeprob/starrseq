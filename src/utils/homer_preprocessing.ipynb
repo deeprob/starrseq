{
 "cells": [
  {
   "cell_type": "code",
   "execution_count": 7,
   "metadata": {},
   "outputs": [],
   "source": [
    "import os\n",
    "import subprocess\n",
    "import pandas as pd"
   ]
  },
  {
   "cell_type": "code",
   "execution_count": 2,
   "metadata": {},
   "outputs": [],
   "source": [
    "roi_window_file_processed = \"/afs/bx.psu.edu/user/d/dzb5732/work/girirajan_lab/starrseq/data/roi.homer.window.bed\""
   ]
  },
  {
   "cell_type": "markdown",
   "metadata": {},
   "source": [
    "# Get the HOMER motif file"
   ]
  },
  {
   "cell_type": "code",
   "execution_count": 3,
   "metadata": {},
   "outputs": [
    {
     "name": "stdout",
     "output_type": "stream",
     "text": [
      "--2021-12-20 11:18:50--  http://homer.ucsd.edu/homer/custom.motifs\n",
      "Resolving homer.ucsd.edu (homer.ucsd.edu)... 169.228.63.226\n",
      "Connecting to homer.ucsd.edu (homer.ucsd.edu)|169.228.63.226|:80... connected.\n",
      "HTTP request sent, awaiting response... 200 OK\n",
      "Length: 194498 (190K)\n",
      "Saving to: '/afs/bx.psu.edu/user/d/dzb5732/work/girirajan_lab/starrseq/data/homer.motifs'\n",
      "\n",
      "/afs/bx.psu.edu/use 100%[===================>] 189.94K  1004KB/s    in 0.2s    \n",
      "\n",
      "2021-12-20 11:18:50 (1004 KB/s) - '/afs/bx.psu.edu/user/d/dzb5732/work/girirajan_lab/starrseq/data/homer.motifs' saved [194498/194498]\n",
      "\n"
     ]
    }
   ],
   "source": [
    "homer_motif_database_url = \"http://homer.ucsd.edu/homer/custom.motifs\"\n",
    "homer_motifs = \"/afs/bx.psu.edu/user/d/dzb5732/work/girirajan_lab/starrseq/data/homer.motifs\"\n",
    "\n",
    "!wget -O $homer_motifs $homer_motif_database_url"
   ]
  },
  {
   "cell_type": "markdown",
   "metadata": {},
   "source": [
    "# Create an intersection of genomic window file with the master enhancer list\n",
    "\n",
    "This will give us genomic windows of length 500 which will have TF motifs\n",
    "\n",
    "- Decide the fraction of intersection: start with 50 bp or 10% of the window must intersect with the enhancer region"
   ]
  },
  {
   "cell_type": "code",
   "execution_count": 4,
   "metadata": {},
   "outputs": [],
   "source": [
    "genomic_window_file = \"/data5/deepro/tf_bind_prediction/data/windows.bed\"\n",
    "roi_file = \"/afs/bx.psu.edu/user/d/dzb5732/work/girirajan_lab/starrseq/data/master.homer.bed\"\n",
    "roi_window_file = \"/afs/bx.psu.edu/user/d/dzb5732/work/girirajan_lab/starrseq/data/master.homer.window.bed\"\n",
    "\n",
    "!bedtools intersect -a $genomic_window_file -b $roi_file -f 0.1 -u -sorted > $roi_window_file"
   ]
  },
  {
   "cell_type": "markdown",
   "metadata": {},
   "source": [
    "## Post process the roi window file to be compatible with homer"
   ]
  },
  {
   "cell_type": "code",
   "execution_count": 10,
   "metadata": {},
   "outputs": [],
   "source": [
    "df_roi_raw = pd.read_csv(roi_window_file, sep=\"\\t\", header=None, usecols=[0,1,2])"
   ]
  },
  {
   "cell_type": "code",
   "execution_count": 12,
   "metadata": {},
   "outputs": [],
   "source": [
    "def process(df_row):\n",
    "    chrname = df_row[0]\n",
    "    start = df_row[1]\n",
    "    end = df_row[2]\n",
    "    peak_name = f\"{chrname}:{start}-{end}\"\n",
    "    irrelevant_col = 0\n",
    "    strand = \".\"\n",
    "    return pd.Series({\"3\":peak_name, \"4\":irrelevant_col, \"5\": strand}) "
   ]
  },
  {
   "cell_type": "code",
   "execution_count": 18,
   "metadata": {},
   "outputs": [],
   "source": [
    "df_roi_raw.merge(df_roi_raw.apply(process, axis=1), left_index=True, right_index=True).to_csv(roi_window_file_processed, index=False, header=None, sep=\"\\t\")"
   ]
  },
  {
   "cell_type": "markdown",
   "metadata": {},
   "source": [
    "# Define the activity of each roi window based on the number of reads that align to that region\n",
    "- Align filtered reads to get read counts\n",
    "- Think about getting rid of covariates later"
   ]
  },
  {
   "cell_type": "code",
   "execution_count": 6,
   "metadata": {},
   "outputs": [],
   "source": [
    "# Filtered read bam file and roi window file for both input and output coverage\n",
    "input_bam_file = \"/data5/deepro/starrseq/main_lib/filtered_libraries/Input_SeqReady.bam\"\n",
    "input_cov_out = \"/data5/deepro/starrseq/main_lib/results/activity_prediction/data/input.cov.bed\"\n",
    "cc_bam_file = \"/data5/deepro/starrseq/main_lib/filtered_libraries/CC.bam\"\n",
    "cc_cov_out = \"/data5/deepro/starrseq/main_lib/results/activity_prediction/data/cc.cov.bed\"\n",
    "atf2_bam_file = \"/data5/deepro/starrseq/main_lib/filtered_libraries/ATF2.bam\"\n",
    "atf2_cov_out = \"/data5/deepro/starrseq/main_lib/results/activity_prediction/data/atf2.cov.bed\""
   ]
  },
  {
   "cell_type": "code",
   "execution_count": 3,
   "metadata": {},
   "outputs": [],
   "source": [
    "!bash get_coverage.sh $roi_window_file_processed $input_bam_file $input_cov_out false"
   ]
  },
  {
   "cell_type": "code",
   "execution_count": 4,
   "metadata": {},
   "outputs": [],
   "source": [
    "!bash get_coverage.sh $roi_window_file_processed $cc_bam_file $cc_cov_out false"
   ]
  },
  {
   "cell_type": "code",
   "execution_count": 7,
   "metadata": {},
   "outputs": [],
   "source": [
    "!bash get_coverage.sh $roi_window_file_processed $atf2_bam_file $atf2_cov_out false"
   ]
  },
  {
   "cell_type": "markdown",
   "metadata": {},
   "source": [
    "# Find the log odds score of all the motifs present in the HOMER database that might bind to each region"
   ]
  },
  {
   "cell_type": "code",
   "execution_count": 19,
   "metadata": {},
   "outputs": [],
   "source": [
    "motif_location_output_dir = \"/data5/deepro/starrseq/main_lib/results/activity_prediction/data/\"\n",
    "motif_location_output_file = \"/data5/deepro/starrseq/main_lib/results/activity_prediction/data/motif_odds.tsv\"\n",
    "genome_fasta = \"/data5/deepro/genomes/GRCh38_no_alt_analysis_set_GCA_000001405.15.fasta\""
   ]
  },
  {
   "cell_type": "code",
   "execution_count": 25,
   "metadata": {},
   "outputs": [
    {
     "name": "stdout",
     "output_type": "stream",
     "text": [
      "\n",
      "\tPosition file = /afs/bx.psu.edu/user/d/dzb5732/work/girirajan_lab/starrseq/data/roi.homer.window.bed\n",
      "\tGenome = /data5/deepro/genomes/GRCh38_no_alt_analysis_set_GCA_000001405.15.fasta\n",
      "\tOutput Directory = /data5/deepro/starrseq/main_lib/results/activity_prediction/data/\n",
      "\tWill find motif(s) in /afs/bx.psu.edu/user/d/dzb5732/work/girirajan_lab/starrseq/data/homer.motifs\n",
      "\tUsing Custom Genome\n",
      "\tPeak/BED file conversion summary:\n",
      "\t\tBED/Header formatted lines: 946702\n",
      "\t\tpeakfile formatted lines: 0\n",
      "\n",
      "\tPeak File Statistics:\n",
      "\t\tTotal Peaks: 946702\n",
      "\t\tRedundant Peak IDs: 0\n",
      "\t\tPeaks lacking information: 0 (need at least 5 columns per peak)\n",
      "\t\tPeaks with misformatted coordinates: 0 (should be integer)\n",
      "\t\tPeaks with misformatted strand: 0 (should be either +/- or 0/1)\n",
      "\n",
      "\tPeak file looks good!\n",
      "\n",
      "\tBackground files for 200 bp fragments found.\n",
      "\tCustom genome sequence file: /data5/deepro/genomes/GRCh38_no_alt_analysis_set_GCA_000001405.15.fasta\n",
      "\n",
      "\tExtracting sequences from file: /data5/deepro/genomes/GRCh38_no_alt_analysis_set_GCA_000001405.15.fasta\n",
      "\tLooking for peak sequences in a single file (/data5/deepro/genomes/GRCh38_no_alt_analysis_set_GCA_000001405.15.fasta)\n",
      "\tExtracting 89004 sequences from chr1\n",
      "\tExtracting 74951 sequences from chr2\n",
      "\tExtracting 38633 sequences from chr3\n",
      "\tExtracting 28132 sequences from chr4\n",
      "\tExtracting 74587 sequences from chr5\n",
      "\tExtracting 87208 sequences from chr6\n",
      "\tExtracting 49121 sequences from chr7\n",
      "\tExtracting 24130 sequences from chr8\n",
      "\tExtracting 29448 sequences from chr9\n",
      "\tExtracting 60541 sequences from chr10\n",
      "\tExtracting 21886 sequences from chr11\n",
      "\tExtracting 52242 sequences from chr12\n",
      "\tExtracting 16828 sequences from chr13\n",
      "\tExtracting 37504 sequences from chr14\n",
      "\tExtracting 43176 sequences from chr15\n",
      "\tExtracting 24008 sequences from chr16\n",
      "\tExtracting 56254 sequences from chr17\n",
      "\tExtracting 30088 sequences from chr18\n",
      "\tExtracting 37223 sequences from chr19\n",
      "\tExtracting 20008 sequences from chr20\n",
      "\tExtracting 12344 sequences from chr21\n",
      "\tExtracting 19288 sequences from chr22\n",
      "\tExtracting 20098 sequences from chrX\n",
      "\n",
      "\n",
      "\tReading input files...\n",
      "\t946702 total sequences read\n",
      "\t436 motifs loaded\n",
      "\tFinding instances of 436 motif(s)\n",
      "\t|0%                                    50%                                  100%|\n",
      "\t=================================================================================\n",
      "\tCleaning up tmp files...\n",
      "\n"
     ]
    }
   ],
   "source": [
    "!findMotifsGenome.pl $roi_window_file_processed $genome_fasta $motif_location_output_dir -find $homer_motifs > $motif_location_output_file"
   ]
  },
  {
   "cell_type": "markdown",
   "metadata": {},
   "source": []
  }
 ],
 "metadata": {
  "interpreter": {
   "hash": "06856c2527dea3cf472b3c4994ec564df76496982852535c5a9520cd26601212"
  },
  "kernelspec": {
   "display_name": "Python 3.9.7 64-bit ('starrseq': conda)",
   "language": "python",
   "name": "python3"
  },
  "language_info": {
   "codemirror_mode": {
    "name": "ipython",
    "version": 3
   },
   "file_extension": ".py",
   "mimetype": "text/x-python",
   "name": "python",
   "nbconvert_exporter": "python",
   "pygments_lexer": "ipython3",
   "version": "3.9.7"
  },
  "orig_nbformat": 4
 },
 "nbformat": 4,
 "nbformat_minor": 2
}
