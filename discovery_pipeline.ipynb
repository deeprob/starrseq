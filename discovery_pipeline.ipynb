{
 "cells": [
  {
   "cell_type": "markdown",
   "metadata": {},
   "source": [
    "# Check notebook is using the correct conda environment"
   ]
  },
  {
   "cell_type": "code",
   "execution_count": 1,
   "metadata": {},
   "outputs": [
    {
     "name": "stdout",
     "output_type": "stream",
     "text": [
      "/afs/bx.psu.edu/user/d/dzb5732/miniconda3/envs/starrseq/bin/python\n"
     ]
    }
   ],
   "source": [
    "!which python"
   ]
  },
  {
   "cell_type": "markdown",
   "metadata": {},
   "source": [
    "# Import modules"
   ]
  },
  {
   "cell_type": "code",
   "execution_count": 2,
   "metadata": {},
   "outputs": [
    {
     "data": {
      "text/html": [
       "\n",
       "    <div class=\"bk-root\">\n",
       "        <a href=\"https://bokeh.org\" target=\"_blank\" class=\"bk-logo bk-logo-small bk-logo-notebook\"></a>\n",
       "        <span id=\"1002\">Loading BokehJS ...</span>\n",
       "    </div>"
      ]
     },
     "metadata": {},
     "output_type": "display_data"
    },
    {
     "data": {
      "application/javascript": "\n(function(root) {\n  function now() {\n    return new Date();\n  }\n\n  const force = true;\n\n  if (typeof root._bokeh_onload_callbacks === \"undefined\" || force === true) {\n    root._bokeh_onload_callbacks = [];\n    root._bokeh_is_loading = undefined;\n  }\n\n  const JS_MIME_TYPE = 'application/javascript';\n  const HTML_MIME_TYPE = 'text/html';\n  const EXEC_MIME_TYPE = 'application/vnd.bokehjs_exec.v0+json';\n  const CLASS_NAME = 'output_bokeh rendered_html';\n\n  /**\n   * Render data to the DOM node\n   */\n  function render(props, node) {\n    const script = document.createElement(\"script\");\n    node.appendChild(script);\n  }\n\n  /**\n   * Handle when an output is cleared or removed\n   */\n  function handleClearOutput(event, handle) {\n    const cell = handle.cell;\n\n    const id = cell.output_area._bokeh_element_id;\n    const server_id = cell.output_area._bokeh_server_id;\n    // Clean up Bokeh references\n    if (id != null && id in Bokeh.index) {\n      Bokeh.index[id].model.document.clear();\n      delete Bokeh.index[id];\n    }\n\n    if (server_id !== undefined) {\n      // Clean up Bokeh references\n      const cmd_clean = \"from bokeh.io.state import curstate; print(curstate().uuid_to_server['\" + server_id + \"'].get_sessions()[0].document.roots[0]._id)\";\n      cell.notebook.kernel.execute(cmd_clean, {\n        iopub: {\n          output: function(msg) {\n            const id = msg.content.text.trim();\n            if (id in Bokeh.index) {\n              Bokeh.index[id].model.document.clear();\n              delete Bokeh.index[id];\n            }\n          }\n        }\n      });\n      // Destroy server and session\n      const cmd_destroy = \"import bokeh.io.notebook as ion; ion.destroy_server('\" + server_id + \"')\";\n      cell.notebook.kernel.execute(cmd_destroy);\n    }\n  }\n\n  /**\n   * Handle when a new output is added\n   */\n  function handleAddOutput(event, handle) {\n    const output_area = handle.output_area;\n    const output = handle.output;\n\n    // limit handleAddOutput to display_data with EXEC_MIME_TYPE content only\n    if ((output.output_type != \"display_data\") || (!Object.prototype.hasOwnProperty.call(output.data, EXEC_MIME_TYPE))) {\n      return\n    }\n\n    const toinsert = output_area.element.find(\".\" + CLASS_NAME.split(' ')[0]);\n\n    if (output.metadata[EXEC_MIME_TYPE][\"id\"] !== undefined) {\n      toinsert[toinsert.length - 1].firstChild.textContent = output.data[JS_MIME_TYPE];\n      // store reference to embed id on output_area\n      output_area._bokeh_element_id = output.metadata[EXEC_MIME_TYPE][\"id\"];\n    }\n    if (output.metadata[EXEC_MIME_TYPE][\"server_id\"] !== undefined) {\n      const bk_div = document.createElement(\"div\");\n      bk_div.innerHTML = output.data[HTML_MIME_TYPE];\n      const script_attrs = bk_div.children[0].attributes;\n      for (let i = 0; i < script_attrs.length; i++) {\n        toinsert[toinsert.length - 1].firstChild.setAttribute(script_attrs[i].name, script_attrs[i].value);\n        toinsert[toinsert.length - 1].firstChild.textContent = bk_div.children[0].textContent\n      }\n      // store reference to server id on output_area\n      output_area._bokeh_server_id = output.metadata[EXEC_MIME_TYPE][\"server_id\"];\n    }\n  }\n\n  function register_renderer(events, OutputArea) {\n\n    function append_mime(data, metadata, element) {\n      // create a DOM node to render to\n      const toinsert = this.create_output_subarea(\n        metadata,\n        CLASS_NAME,\n        EXEC_MIME_TYPE\n      );\n      this.keyboard_manager.register_events(toinsert);\n      // Render to node\n      const props = {data: data, metadata: metadata[EXEC_MIME_TYPE]};\n      render(props, toinsert[toinsert.length - 1]);\n      element.append(toinsert);\n      return toinsert\n    }\n\n    /* Handle when an output is cleared or removed */\n    events.on('clear_output.CodeCell', handleClearOutput);\n    events.on('delete.Cell', handleClearOutput);\n\n    /* Handle when a new output is added */\n    events.on('output_added.OutputArea', handleAddOutput);\n\n    /**\n     * Register the mime type and append_mime function with output_area\n     */\n    OutputArea.prototype.register_mime_type(EXEC_MIME_TYPE, append_mime, {\n      /* Is output safe? */\n      safe: true,\n      /* Index of renderer in `output_area.display_order` */\n      index: 0\n    });\n  }\n\n  // register the mime type if in Jupyter Notebook environment and previously unregistered\n  if (root.Jupyter !== undefined) {\n    const events = require('base/js/events');\n    const OutputArea = require('notebook/js/outputarea').OutputArea;\n\n    if (OutputArea.prototype.mime_types().indexOf(EXEC_MIME_TYPE) == -1) {\n      register_renderer(events, OutputArea);\n    }\n  }\n\n  \n  if (typeof (root._bokeh_timeout) === \"undefined\" || force === true) {\n    root._bokeh_timeout = Date.now() + 5000;\n    root._bokeh_failed_load = false;\n  }\n\n  const NB_LOAD_WARNING = {'data': {'text/html':\n     \"<div style='background-color: #fdd'>\\n\"+\n     \"<p>\\n\"+\n     \"BokehJS does not appear to have successfully loaded. If loading BokehJS from CDN, this \\n\"+\n     \"may be due to a slow or bad network connection. Possible fixes:\\n\"+\n     \"</p>\\n\"+\n     \"<ul>\\n\"+\n     \"<li>re-rerun `output_notebook()` to attempt to load from CDN again, or</li>\\n\"+\n     \"<li>use INLINE resources instead, as so:</li>\\n\"+\n     \"</ul>\\n\"+\n     \"<code>\\n\"+\n     \"from bokeh.resources import INLINE\\n\"+\n     \"output_notebook(resources=INLINE)\\n\"+\n     \"</code>\\n\"+\n     \"</div>\"}};\n\n  function display_loaded() {\n    const el = document.getElementById(\"1002\");\n    if (el != null) {\n      el.textContent = \"BokehJS is loading...\";\n    }\n    if (root.Bokeh !== undefined) {\n      if (el != null) {\n        el.textContent = \"BokehJS \" + root.Bokeh.version + \" successfully loaded.\";\n      }\n    } else if (Date.now() < root._bokeh_timeout) {\n      setTimeout(display_loaded, 100)\n    }\n  }\n\n\n  function run_callbacks() {\n    try {\n      root._bokeh_onload_callbacks.forEach(function(callback) {\n        if (callback != null)\n          callback();\n      });\n    } finally {\n      delete root._bokeh_onload_callbacks\n    }\n    console.debug(\"Bokeh: all callbacks have finished\");\n  }\n\n  function load_libs(css_urls, js_urls, callback) {\n    if (css_urls == null) css_urls = [];\n    if (js_urls == null) js_urls = [];\n\n    root._bokeh_onload_callbacks.push(callback);\n    if (root._bokeh_is_loading > 0) {\n      console.debug(\"Bokeh: BokehJS is being loaded, scheduling callback at\", now());\n      return null;\n    }\n    if (js_urls == null || js_urls.length === 0) {\n      run_callbacks();\n      return null;\n    }\n    console.debug(\"Bokeh: BokehJS not loaded, scheduling load and callback at\", now());\n    root._bokeh_is_loading = css_urls.length + js_urls.length;\n\n    function on_load() {\n      root._bokeh_is_loading--;\n      if (root._bokeh_is_loading === 0) {\n        console.debug(\"Bokeh: all BokehJS libraries/stylesheets loaded\");\n        run_callbacks()\n      }\n    }\n\n    function on_error(url) {\n      console.error(\"failed to load \" + url);\n    }\n\n    for (let i = 0; i < css_urls.length; i++) {\n      const url = css_urls[i];\n      const element = document.createElement(\"link\");\n      element.onload = on_load;\n      element.onerror = on_error.bind(null, url);\n      element.rel = \"stylesheet\";\n      element.type = \"text/css\";\n      element.href = url;\n      console.debug(\"Bokeh: injecting link tag for BokehJS stylesheet: \", url);\n      document.body.appendChild(element);\n    }\n\n    for (let i = 0; i < js_urls.length; i++) {\n      const url = js_urls[i];\n      const element = document.createElement('script');\n      element.onload = on_load;\n      element.onerror = on_error.bind(null, url);\n      element.async = false;\n      element.src = url;\n      console.debug(\"Bokeh: injecting script tag for BokehJS library: \", url);\n      document.head.appendChild(element);\n    }\n  };\n\n  function inject_raw_css(css) {\n    const element = document.createElement(\"style\");\n    element.appendChild(document.createTextNode(css));\n    document.body.appendChild(element);\n  }\n\n  \n  const js_urls = [\"https://cdn.bokeh.org/bokeh/release/bokeh-2.4.1.min.js\", \"https://cdn.bokeh.org/bokeh/release/bokeh-gl-2.4.1.min.js\", \"https://cdn.bokeh.org/bokeh/release/bokeh-widgets-2.4.1.min.js\", \"https://cdn.bokeh.org/bokeh/release/bokeh-tables-2.4.1.min.js\", \"https://cdn.bokeh.org/bokeh/release/bokeh-mathjax-2.4.1.min.js\"];\n  const css_urls = [];\n  \n\n  const inline_js = [\n    function(Bokeh) {\n      Bokeh.set_log_level(\"info\");\n    },\n    function(Bokeh) {\n    \n    \n    }\n  ];\n\n  function run_inline_js() {\n    \n    if (root.Bokeh !== undefined || force === true) {\n      \n    for (let i = 0; i < inline_js.length; i++) {\n      inline_js[i].call(root, root.Bokeh);\n    }\n    if (force === true) {\n        display_loaded();\n      }} else if (Date.now() < root._bokeh_timeout) {\n      setTimeout(run_inline_js, 100);\n    } else if (!root._bokeh_failed_load) {\n      console.log(\"Bokeh: BokehJS failed to load within specified timeout.\");\n      root._bokeh_failed_load = true;\n    } else if (force !== true) {\n      const cell = $(document.getElementById(\"1002\")).parents('.cell').data().cell;\n      cell.output_area.append_execute_result(NB_LOAD_WARNING)\n    }\n\n  }\n\n  if (root._bokeh_is_loading === 0) {\n    console.debug(\"Bokeh: BokehJS loaded, going straight to plotting\");\n    run_inline_js();\n  } else {\n    load_libs(css_urls, js_urls, function() {\n      console.debug(\"Bokeh: BokehJS plotting callback run at\", now());\n      run_inline_js();\n    });\n  }\n}(window));",
      "application/vnd.bokehjs_load.v0+json": ""
     },
     "metadata": {},
     "output_type": "display_data"
    }
   ],
   "source": [
    "import os\n",
    "import sys\n",
    "import numpy as np\n",
    "import pandas as pd\n",
    "import subprocess\n",
    "import itertools\n",
    "from itertools import starmap\n",
    "from argparse import Namespace\n",
    "import matplotlib.pyplot as plt"
   ]
  },
  {
   "cell_type": "code",
   "execution_count": 3,
   "metadata": {},
   "outputs": [],
   "source": [
    "# internal modules\n",
    "sys.path.append(\"./src/\")"
   ]
  },
  {
   "cell_type": "markdown",
   "metadata": {},
   "source": [
    "# Arguments"
   ]
  },
  {
   "cell_type": "code",
   "execution_count": 8,
   "metadata": {},
   "outputs": [],
   "source": [
    "# TODO: INPUT CONTROL FLAGS as GLOBALS\n",
    "\n",
    "##### GLOBALS #####\n",
    "INLIBPRE = \"/data5/deepro/starrseq/main_lib/raw_data/Input_SeqReady\"\n",
    "CCLIBPRE = \"/data5/deepro/starrseq/main_lib/raw_data/CC\"\n",
    "KOLIBPRE = \"/data5/deepro/starrseq/main_lib/raw_data/ATF2\"\n",
    "\n",
    "INLIBREP = \"A1_R1_S1 B1_R2_S2 C1_R3_S3\"\n",
    "CCLIBREP = \"R1_STARR_Seq_S4 R2_STARR_Seq_S5 R3_STARR_Seq_S6\"\n",
    "KOLIBREP = \"R1_STARR_Seq_S10 R2_STARR_Seq_S11 R3_STARR_Seq_S12\"\n",
    "\n",
    "INLIBPAIR = \"R1 R3\"\n",
    "CCLIBPAIR = \"R1 R3\"\n",
    "KOLIBPAIR = \"R1 R3\"\n",
    "\n",
    "INLIBUMI = \"R2\"\n",
    "CCLIBUMI = \"R2\"\n",
    "KOLIBUMI = \"R2\"\n",
    "\n",
    "INLIBSUF = \"001.fastq.gz\"\n",
    "CCLIBSUF = \"001.fastq.gz\"\n",
    "KOLIBSUF = \"001.fastq.gz\"\n",
    "\n",
    "REFGEN = \"/data5/deepro/genomes/GRCh38_no_alt_analysis_set_GCA_000001405.15.fasta\"\n",
    "ROISORTED = \"/afs/bx.psu.edu/user/d/dzb5732/work/girirajan_lab/starrseq/data/master.sorted.bed\"\n",
    "ROIMASTER = \"/afs/bx.psu.edu/user/d/dzb5732/work/girirajan_lab/starrseq/data/enhancer_master_list_hek293.bed\"\n",
    "\n",
    "RUN=False\n",
    "INPUT_FLAG=True\n",
    "CONTROL_FLAG=True\n",
    "\n",
    "args = Namespace(\n",
    "    input_library_prefix = INLIBPRE,\n",
    "    control_library_prefix = CCLIBPRE,\n",
    "    ko_library_prefix = KOLIBPRE,\n",
    "    input_library_reps = INLIBREP,\n",
    "    control_library_reps = CCLIBREP,\n",
    "    ko_library_reps = KOLIBREP,\n",
    "    input_library_pair = INLIBPAIR,\n",
    "    control_library_pair= CCLIBPAIR,\n",
    "    ko_library_pair = KOLIBPAIR,\n",
    "    input_library_umi = INLIBUMI,\n",
    "    control_library_umi = CCLIBUMI,\n",
    "    ko_library_umi = KOLIBUMI,\n",
    "    input_library_suffix = INLIBSUF,\n",
    "    control_library_suffix = CCLIBSUF,\n",
    "    ko_library_suffix = KOLIBSUF,\n",
    "    reference_genome = REFGEN,\n",
    "    region_of_interest_master = ROIMASTER,\n",
    "    region_of_interest_sorted = ROISORTED,\n",
    "    region_of_interest_sorted_seq = ROISORTED.replace(\"sorted\", \"sorted.seq\"),\n",
    "    input_library_aligned_prefix = INLIBPRE.replace(\"raw_data\", \"aligned_reads\"),\n",
    "    control_library_aligned_prefix = CCLIBPRE.replace(\"raw_data\", \"aligned_reads\"),\n",
    "    ko_library_aligned_prefix = KOLIBPRE.replace(\"raw_data\", \"aligned_reads\"),\n",
    "    input_library_filtered_prefix = INLIBPRE.replace(\"raw_data\", \"filtered_libraries\"),\n",
    "    control_library_filtered_prefix = CCLIBPRE.replace(\"raw_data\", \"filtered_libraries\"),\n",
    "    ko_library_filtered_prefix = KOLIBPRE.replace(\"raw_data\", \"filtered_libraries\"),\n",
    "    input_library_filtered_bam = INLIBPRE.replace(\"raw_data\", \"filtered_libraries\") + \".bam\",\n",
    "    control_library_filtered_bam = CCLIBPRE.replace(\"raw_data\", \"filtered_libraries\") + \".bam\",\n",
    "    ko_library_filtered_bam = KOLIBPRE.replace(\"raw_data\", \"filtered_libraries\") + \".bam\",\n",
    "    input_library_coverage_bed = INLIBPRE.replace(\"raw_data\", \"filtered_libraries\") + \".coverage.bed\",\n",
    "    control_library_coverage_bed = CCLIBPRE.replace(\"raw_data\", \"filtered_libraries\") + \".coverage.bed\",\n",
    "    ko_library_coverage_bed = KOLIBPRE.replace(\"raw_data\", \"filtered_libraries\") + \".coverage.bed\",\n",
    "    input_library_depth_bed = INLIBPRE.replace(\"raw_data\", \"filtered_libraries\") + \".depth.bed\",\n",
    "    control_library_depth_bed = CCLIBPRE.replace(\"raw_data\", \"filtered_libraries\") + \".depth.bed\",\n",
    "    ko_library_depth_bed = KOLIBPRE.replace(\"raw_data\", \"filtered_libraries\") + \".depth.bed\",\n",
    "    control_peaks_prefix = CCLIBPRE.replace(\"raw_data\", \"results/peaks\"),\n",
    "    ko_peaks_prefix = KOLIBPRE.replace(\"raw_data\", \"results/peaks\"),\n",
    "    control_peak_file = CCLIBPRE.replace(\"raw_data\", \"results/peaks\") + \".peak.final.bed\",\n",
    "    ko_peak_file = KOLIBPRE.replace(\"raw_data\", \"results/peaks\") + \".peak.final.bed\",\n",
    "    ko_activated_file = KOLIBPRE.replace(\"raw_data\", \"results/peaks\") + \".peak.activated.bed\",\n",
    "    ko_repressed_file = KOLIBPRE.replace(\"raw_data\", \"results/peaks\") + \".peak.repressed.bed\",\n",
    "    ko_avalidated_file = KOLIBPRE.replace(\"raw_data\", \"results/peaks\") + \".peak.avalidated.bed\",\n",
    "    ko_rvalidated_file = KOLIBPRE.replace(\"raw_data\", \"results/peaks\") + \".peak.rvalidated.bed\",\n",
    "    ko_name = \"eGFP-ATF2\",\n",
    "\n",
    "    umi_flag = True if INLIBUMI else False,\n",
    "    input_flag = INPUT_FLAG,\n",
    "    control_flag = CONTROL_FLAG,\n",
    "\n",
    "    # TODO: MEA onwards naming and directory convention\n",
    "    # ko_rnaseq_de = \"/data5/deepro/starrseq/nextseq_feb_2021/rna_seq_data/ATF2_vs_CC.tsv\",\n",
    "    # handcrafted_list_mea = [\"ATF1\", \"ko\", \"ATF3\", \"ATF4\", \"ATF5\", \"ATF6\", \"ATF7\",\n",
    "    #                         \"JUN\", \"JUNB\", \"JUND\", \n",
    "    #                         \"TP53\", \"TP73\",\n",
    "    #                         \"NFIL3\",\n",
    "    #                         \"CREB1\", \"CREB3\", \"CREB5\",\n",
    "    #                         \"FOS\", \"FOSB\", \"FOSL1\", \"FOSL2\", \n",
    "    #                         \"STAT1\", \"STAT2\", \"STAT3\", \n",
    "    #                         \"BHLHE41\", \n",
    "    #                         \"HOXB4\", \n",
    "    #                         \"NEUROG2\", \n",
    "    #                         \"WT1\", \n",
    "    #                         \"E2F6\"],\n",
    "    # mea_ko_activated_results_dir = \"/data5/deepro/starrseq/nextseq_feb_2021/results/mea/ko/activated/\",\n",
    "    # mea_ko_repressed_results_dir = \"/data5/deepro/starrseq/nextseq_feb_2021/results/mea/ko/repressed/\",\n",
    "    # moi_activated = \"/data5/deepro/starrseq/nextseq_feb_2021/results/mea/ko/activated/knownResults/known13.motif\",\n",
    "    # mea_ko_activated_results_specific_motif_dir = \"/data5/deepro/starrseq/nextseq_feb_2021/results/mea/ko/activated/moiResults/\",\n",
    "    # moi_repressed = \"/data5/deepro/starrseq/nextseq_feb_2021/results/mea/ko/repressed/knownResults/known1.motif\",\n",
    "    # mea_ko_repressed_results_specific_motif_dir = \"/data5/deepro/starrseq/nextseq_feb_2021/results/mea/ko/repressed/moiResults/\",\n",
    "\n",
    ")"
   ]
  },
  {
   "cell_type": "markdown",
   "metadata": {},
   "source": [
    "# TODO: Discovery"
   ]
  },
  {
   "cell_type": "markdown",
   "metadata": {},
   "source": [
    "## Motif Enrichment Analysis with HOMER "
   ]
  },
  {
   "cell_type": "markdown",
   "metadata": {},
   "source": [
    "## Find motif locations from mea results"
   ]
  },
  {
   "cell_type": "code",
   "execution_count": null,
   "metadata": {},
   "outputs": [
    {
     "name": "stdout",
     "output_type": "stream",
     "text": [
      "\n",
      "\tPosition file = /data5/deepro/starrseq/nextseq_feb_2021/results/atf2.peak.activated.bed\n",
      "\tGenome = /data5/deepro/genomes/GRCh38_no_alt_analysis_set_GCA_000001405.15.fasta\n",
      "\tOutput Directory = /data5/deepro/starrseq/nextseq_feb_2021/results/mea/atf2/activated/moiResults/\n",
      "\tWill find motif(s) in /data5/deepro/starrseq/nextseq_feb_2021/results/mea/atf2/activated/knownResults/known13.motif\n",
      "\tUsing Custom Genome\n",
      "\tPeak/BED file conversion summary:\n",
      "\t\tBED/Header formatted lines: 20\n",
      "\t\tpeakfile formatted lines: 0\n",
      "\n",
      "\tPeak File Statistics:\n",
      "\t\tTotal Peaks: 20\n",
      "\t\tRedundant Peak IDs: 0\n",
      "\t\tPeaks lacking information: 0 (need at least 5 columns per peak)\n",
      "\t\tPeaks with misformatted coordinates: 0 (should be integer)\n",
      "\t\tPeaks with misformatted strand: 0 (should be either +/- or 0/1)\n",
      "\n",
      "\tPeak file looks good!\n",
      "\n",
      "\tBackground files for 200 bp fragments found.\n",
      "\tCustom genome sequence file: /data5/deepro/genomes/GRCh38_no_alt_analysis_set_GCA_000001405.15.fasta\n",
      "\n",
      "\tExtracting sequences from file: /data5/deepro/genomes/GRCh38_no_alt_analysis_set_GCA_000001405.15.fasta\n",
      "\tLooking for peak sequences in a single file (/data5/deepro/genomes/GRCh38_no_alt_analysis_set_GCA_000001405.15.fasta)\n",
      "\tExtracting 1 sequences from chr1\n",
      "\tExtracting 1 sequences from chr2\n",
      "\tExtracting 2 sequences from chr3\n",
      "\tExtracting 4 sequences from chr5\n",
      "\tExtracting 2 sequences from chr7\n",
      "\tExtracting 2 sequences from chr9\n",
      "\tExtracting 3 sequences from chr12\n",
      "\tExtracting 1 sequences from chr13\n",
      "\tExtracting 1 sequences from chr16\n",
      "\tExtracting 2 sequences from chr17\n",
      "\tExtracting 1 sequences from chrX\n",
      "\n",
      "\n",
      "\tReading input files...\n",
      "\t20 total sequences read\n",
      "\t1 motifs loaded\n",
      "\tFinding instances of 1 motif(s)\n",
      "\t|0%                                    50%                                  100%|\n",
      "\t=================================================================================\n",
      "\tCleaning up tmp files...\n",
      "\n"
     ]
    }
   ],
   "source": [
    "# # find the motif location in the activated file\n",
    "# !findMotifsGenome.pl $atf2_activated_file $reference_genome $mea_atf2_activated_results_specific_motif_dir -find $moi_activated > $mea_atf2_activated_results_specific_motif_dir\"known13.txt\" \n"
   ]
  },
  {
   "cell_type": "code",
   "execution_count": null,
   "metadata": {},
   "outputs": [
    {
     "name": "stdout",
     "output_type": "stream",
     "text": [
      "\n",
      "\tPosition file = /data5/deepro/starrseq/nextseq_feb_2021/results/atf2.peak.repressed.bed\n",
      "\tGenome = /data5/deepro/genomes/GRCh38_no_alt_analysis_set_GCA_000001405.15.fasta\n",
      "\tOutput Directory = /data5/deepro/starrseq/nextseq_feb_2021/results/mea/atf2/repressed/moiResults/\n",
      "\tWill find motif(s) in /data5/deepro/starrseq/nextseq_feb_2021/results/mea/atf2/repressed/knownResults/known1.motif\n",
      "\tUsing Custom Genome\n",
      "\tPeak/BED file conversion summary:\n",
      "\t\tBED/Header formatted lines: 22\n",
      "\t\tpeakfile formatted lines: 0\n",
      "\n",
      "\tPeak File Statistics:\n",
      "\t\tTotal Peaks: 22\n",
      "\t\tRedundant Peak IDs: 0\n",
      "\t\tPeaks lacking information: 0 (need at least 5 columns per peak)\n",
      "\t\tPeaks with misformatted coordinates: 0 (should be integer)\n",
      "\t\tPeaks with misformatted strand: 0 (should be either +/- or 0/1)\n",
      "\n",
      "\tPeak file looks good!\n",
      "\n",
      "\tBackground files for 200 bp fragments found.\n",
      "\tCustom genome sequence file: /data5/deepro/genomes/GRCh38_no_alt_analysis_set_GCA_000001405.15.fasta\n",
      "\n",
      "\tExtracting sequences from file: /data5/deepro/genomes/GRCh38_no_alt_analysis_set_GCA_000001405.15.fasta\n",
      "\tLooking for peak sequences in a single file (/data5/deepro/genomes/GRCh38_no_alt_analysis_set_GCA_000001405.15.fasta)\n",
      "\tExtracting 2 sequences from chr1\n",
      "\tExtracting 2 sequences from chr2\n",
      "\tExtracting 1 sequences from chr5\n",
      "\tExtracting 1 sequences from chr7\n",
      "\tExtracting 1 sequences from chr8\n",
      "\tExtracting 1 sequences from chr9\n",
      "\tExtracting 2 sequences from chr10\n",
      "\tExtracting 1 sequences from chr11\n",
      "\tExtracting 2 sequences from chr12\n",
      "\tExtracting 1 sequences from chr15\n",
      "\tExtracting 1 sequences from chr16\n",
      "\tExtracting 1 sequences from chr17\n",
      "\tExtracting 2 sequences from chr19\n",
      "\tExtracting 1 sequences from chr20\n",
      "\tExtracting 1 sequences from chr21\n",
      "\tExtracting 2 sequences from chr22\n",
      "\n",
      "\n",
      "\tReading input files...\n",
      "\t22 total sequences read\n",
      "\t1 motifs loaded\n",
      "\tFinding instances of 1 motif(s)\n",
      "\t|0%                                    50%                                  100%|\n",
      "\t=================================================================================\n",
      "\tCleaning up tmp files...\n",
      "\n"
     ]
    }
   ],
   "source": [
    "# # find the motif location in the repressed file\n",
    "# !findMotifsGenome.pl $atf2_repressed_file $reference_genome $mea_atf2_repressed_results_specific_motif_dir -find $moi_repressed > $mea_atf2_repressed_results_specific_motif_dir\"known1.txt\" "
   ]
  },
  {
   "cell_type": "markdown",
   "metadata": {},
   "source": [
    "# TODO: Verification of enriched motifs with RNASeq data"
   ]
  },
  {
   "cell_type": "code",
   "execution_count": null,
   "metadata": {},
   "outputs": [],
   "source": [
    "# df_ko_de = pd.read_csv(args.ko_rnaseq_de, sep=\"\\t\")\n",
    "# minidf = df_ko_de.loc[df_ko_de.gene_symbol.isin(args.handcrafted_list_mea)]\n",
    "\n",
    "def neglog10(x):\n",
    "    return -np.log10(x)"
   ]
  },
  {
   "cell_type": "code",
   "execution_count": null,
   "metadata": {},
   "outputs": [
    {
     "data": {
      "image/png": "[encoded data removed]",
      "text/plain": [
       "<Figure size 864x720 with 1 Axes>"
      ]
     },
     "metadata": {
      "needs_background": "light"
     },
     "output_type": "display_data"
    }
   ],
   "source": [
    "# negP = minidf.PValue.apply(neglog10)\n",
    "\n",
    "# plt.figure(figsize=(12,10))\n",
    "# plt.scatter(minidf.logFC, negP, c=minidf.logFC)\n",
    "# for i in range(len(minidf)):\n",
    "#     plt.text(minidf.logFC.iloc[i]+0.025, negP.iloc[i], minidf.gene_symbol.iloc[i], fontsize=\"small\")"
   ]
  },
  {
   "cell_type": "code",
   "execution_count": null,
   "metadata": {},
   "outputs": [],
   "source": []
  }
 ],
 "metadata": {
  "interpreter": {
   "hash": "241e687e2a6674f2e504bb42d794692c309af558d00106a9753b31f4422e62b4"
  },
  "kernelspec": {
   "display_name": "Python 3.9.7 64-bit ('starrseq': conda)",
   "name": "python3"
  },
  "language_info": {
   "codemirror_mode": {
    "name": "ipython",
    "version": 3
   },
   "file_extension": ".py",
   "mimetype": "text/x-python",
   "name": "python",
   "nbconvert_exporter": "python",
   "pygments_lexer": "ipython3",
   "version": "3.9.7"
  },
  "orig_nbformat": 4
 },
 "nbformat": 4,
 "nbformat_minor": 2
}
