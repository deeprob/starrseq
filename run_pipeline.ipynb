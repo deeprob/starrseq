{
 "cells": [
  {
   "cell_type": "markdown",
   "metadata": {},
   "source": [
    "# Check notebook is using the correct conda environment"
   ]
  },
  {
   "cell_type": "code",
   "execution_count": 1,
   "metadata": {},
   "outputs": [
    {
     "name": "stdout",
     "output_type": "stream",
     "text": [
      "/afs/bx.psu.edu/user/d/dzb5732/miniconda3/envs/starrseq/bin/python\n"
     ]
    }
   ],
   "source": [
    "!which python"
   ]
  },
  {
   "cell_type": "markdown",
   "metadata": {},
   "source": [
    "# Import modules"
   ]
  },
  {
   "cell_type": "code",
   "execution_count": 2,
   "metadata": {},
   "outputs": [],
   "source": [
    "import os\n",
    "import sys\n",
    "import json\n",
    "import numpy as np\n",
    "import pandas as pd\n",
    "import subprocess\n",
    "import itertools\n",
    "from itertools import starmap\n",
    "from argparse import Namespace"
   ]
  },
  {
   "cell_type": "code",
   "execution_count": 3,
   "metadata": {},
   "outputs": [],
   "source": [
    "# internal modules\n",
    "sys.path.append(\"./src/\")"
   ]
  },
  {
   "cell_type": "code",
   "execution_count": 4,
   "metadata": {},
   "outputs": [],
   "source": [
    "from reads_to_peaks import remove_dups, align_reads, filter_reads, call_peaks_helper"
   ]
  },
  {
   "cell_type": "markdown",
   "metadata": {},
   "source": [
    "# Arguments"
   ]
  },
  {
   "cell_type": "code",
   "execution_count": 5,
   "metadata": {},
   "outputs": [],
   "source": [
    "##### METADATA #####\n",
    "meta_file = \"./data/metadata.json\"\n",
    "with open(meta_file, \"r\") as f: \n",
    "    meta_dict = json.load(f)\n",
    "\n",
    "##### GLOBALS #####\n",
    "KO_NAME = \"atf2\" # can be 16p12.1, atf2, ctcf, foxa1, lef1, scrt1, tcf7l2\n",
    "REFGEN = \"/data5/deepro/genomes/GRCh38_no_alt_analysis_set_GCA_000001405.15.fasta\"\n",
    "ROISORTED = \"/afs/bx.psu.edu/user/d/dzb5732/work/girirajan_lab/starrseq/data/master.sorted.bed\"\n",
    "\n",
    "##### FLAGS #####\n",
    "RUN_DEDUP=False\n",
    "RUN_ALIGN=False\n",
    "RUN_FILTER=True\n",
    "RUN_PEAKS=False\n",
    "INPUT_FLAG=True\n",
    "CONTROL_FLAG=True\n",
    "\n",
    "args = Namespace(\n",
    "    # from metadata and globals\n",
    "    input_library_prefix = meta_dict[\"input\"][\"prefix\"],\n",
    "    control_library_prefix = meta_dict[\"control\"][\"prefix\"],\n",
    "    ko_library_prefix = meta_dict[KO_NAME][\"prefix\"],\n",
    "    input_library_reps = meta_dict[\"input\"][\"replicates\"],\n",
    "    control_library_reps = meta_dict[\"control\"][\"replicates\"],\n",
    "    ko_library_reps = meta_dict[KO_NAME][\"replicates\"],\n",
    "    input_library_pair = meta_dict[\"input\"][\"read_pairs\"],\n",
    "    control_library_pair= meta_dict[\"control\"][\"read_pairs\"],\n",
    "    ko_library_pair = meta_dict[KO_NAME][\"read_pairs\"],\n",
    "    input_library_umi = meta_dict[\"input\"][\"umi\"],\n",
    "    control_library_umi = meta_dict[\"control\"][\"umi\"],\n",
    "    ko_library_umi = meta_dict[KO_NAME][\"umi\"],\n",
    "    input_library_suffix = meta_dict[\"input\"][\"suffix\"],\n",
    "    control_library_suffix = meta_dict[\"control\"][\"suffix\"],\n",
    "    ko_library_suffix = meta_dict[KO_NAME][\"suffix\"],\n",
    "    reference_genome = REFGEN,\n",
    "    region_of_interest_sorted = ROISORTED,\n",
    "    \n",
    "    # for internal use\n",
    "    input_library_aligned_prefix = meta_dict[\"input\"][\"prefix\"].replace(\"raw_data\", \"aligned_reads\"),\n",
    "    control_library_aligned_prefix = meta_dict[\"control\"][\"prefix\"].replace(\"raw_data\", \"aligned_reads\"),\n",
    "    ko_library_aligned_prefix = meta_dict[KO_NAME][\"prefix\"].replace(\"raw_data\", \"aligned_reads\"),\n",
    "    input_library_filtered_prefix = meta_dict[\"input\"][\"prefix\"].replace(\"raw_data\", \"filtered_libraries\"),\n",
    "    control_library_filtered_prefix = meta_dict[\"control\"][\"prefix\"].replace(\"raw_data\", \"filtered_libraries\"),\n",
    "    ko_library_filtered_prefix = meta_dict[KO_NAME][\"prefix\"].replace(\"raw_data\", \"filtered_libraries\"),\n",
    "    input_library_filtered_bam = meta_dict[\"input\"][\"prefix\"].replace(\"raw_data\", \"filtered_libraries\") + \".bam\",\n",
    "    control_library_filtered_bam = meta_dict[\"control\"][\"prefix\"].replace(\"raw_data\", \"filtered_libraries\") + \".bam\",\n",
    "    ko_library_filtered_bam = meta_dict[KO_NAME][\"prefix\"].replace(\"raw_data\", \"filtered_libraries\") + \".bam\",\n",
    "    input_library_coverage_bed = meta_dict[\"input\"][\"prefix\"].replace(\"raw_data\", \"filtered_libraries\") + \".coverage.bed\",\n",
    "    control_library_coverage_bed = meta_dict[\"control\"][\"prefix\"].replace(\"raw_data\", \"filtered_libraries\") + \".coverage.bed\",\n",
    "    ko_library_coverage_bed = meta_dict[KO_NAME][\"prefix\"].replace(\"raw_data\", \"filtered_libraries\") + \".coverage.bed\",\n",
    "    input_library_depth_bed = meta_dict[\"input\"][\"prefix\"].replace(\"raw_data\", \"filtered_libraries\") + \".depth.bed\",\n",
    "    control_library_depth_bed = meta_dict[\"control\"][\"prefix\"].replace(\"raw_data\", \"filtered_libraries\") + \".depth.bed\",\n",
    "    ko_library_depth_bed = meta_dict[KO_NAME][\"prefix\"].replace(\"raw_data\", \"filtered_libraries\") + \".depth.bed\",\n",
    "    control_peaks_prefix = meta_dict[\"control\"][\"prefix\"].replace(\"raw_data\", \"results/peaks\"),\n",
    "    ko_peaks_prefix = meta_dict[KO_NAME][\"prefix\"].replace(\"raw_data\", \"results/peaks\"),\n",
    "\n",
    "    # from global flags\n",
    "    umi_flag = True if meta_dict[\"input\"][\"umi\"] else False,\n",
    "    input_flag = INPUT_FLAG,\n",
    "    control_flag = CONTROL_FLAG,\n",
    ")"
   ]
  },
  {
   "cell_type": "markdown",
   "metadata": {},
   "source": [
    "# Deduplicate"
   ]
  },
  {
   "cell_type": "code",
   "execution_count": 6,
   "metadata": {},
   "outputs": [],
   "source": [
    "# use starrdust if umi's are present else use picard later while filtering reads\n",
    "# TODO: starrdust deduplication function\n",
    "\n",
    "if args.umi_flag:\n",
    "    if RUN_DEDUP:\n",
    "        print(\"Running STARRdust\")\n",
    "        remove_dups(args.input_library_prefix, args.input_library_reps, args.input_library_pair, args.input_library_umi, args.input_library_suffix,\n",
    "                    args.control_library_prefix, args.control_library_reps, args.control_library_pair, args.control_library_umi, args.control_library_suffix,\n",
    "                    args.ko_library_prefix, args.ko_library_reps, args.ko_library_pair, args.ko_library_umi, args.ko_library_suffix, \n",
    "                    input_flag=args.input_flag, control_flag=args.control_flag)\n",
    "        \n",
    "    new_suffix = \"001.deduped.fastq\"\n",
    "    # overwrite library suffix\n",
    "    args.input_library_suffix = new_suffix\n",
    "    args.control_library_suffix = new_suffix\n",
    "    args.ko_library_suffix = new_suffix"
   ]
  },
  {
   "cell_type": "markdown",
   "metadata": {},
   "source": [
    "# Align read files to the reference genome"
   ]
  },
  {
   "cell_type": "code",
   "execution_count": 7,
   "metadata": {},
   "outputs": [],
   "source": [
    "if RUN_ALIGN:\n",
    "    align_reads(args.input_library_prefix, args.input_library_reps, args.input_library_pair, args.input_library_suffix, args.input_library_aligned_prefix,\n",
    "                args.control_library_prefix, args.control_library_reps, args.control_library_pair, args.control_library_suffix, args.control_library_aligned_prefix,\n",
    "                args.ko_library_prefix, args.ko_library_reps, args.ko_library_pair, args.ko_library_suffix, args.ko_library_aligned_prefix, \n",
    "                args.reference_genome, input_flag=args.input_flag, control_flag=args.control_flag)"
   ]
  },
  {
   "cell_type": "markdown",
   "metadata": {},
   "source": [
    "# Filter aligned read files"
   ]
  },
  {
   "cell_type": "code",
   "execution_count": 8,
   "metadata": {},
   "outputs": [
    {
     "name": "stdout",
     "output_type": "stream",
     "text": [
      "Duplicates removed by the user\n",
      "Duplicates removed by the user\n",
      "Duplicates removed by the user\n",
      "Duplicates removed by the user\n",
      "Duplicates removed by the user\n",
      "Duplicates removed by the user\n",
      "Duplicates removed by the user\n",
      "Duplicates removed by the user\n",
      "Duplicates removed by the user\n"
     ]
    }
   ],
   "source": [
    "if RUN_FILTER:\n",
    "    filter_reads(args.input_library_aligned_prefix, args.input_library_reps, args.input_library_filtered_prefix,\n",
    "                 args.control_library_aligned_prefix, args.control_library_reps, args.control_library_filtered_prefix,\n",
    "                 args.ko_library_aligned_prefix, args.ko_library_reps, args.ko_library_filtered_prefix, args.region_of_interest_sorted, \n",
    "                 umi=args.umi_flag, input_flag=args.input_flag, control_flag=args.control_flag)"
   ]
  },
  {
   "cell_type": "markdown",
   "metadata": {},
   "source": [
    "# Call peaks"
   ]
  },
  {
   "cell_type": "code",
   "execution_count": 23,
   "metadata": {},
   "outputs": [],
   "source": [
    "if RUN_PEAKS:\n",
    "    call_peaks_helper(args.input_library_filtered_prefix, args.control_library_filtered_prefix, args.ko_library_filtered_prefix, control_flag=args.control_flag)"
   ]
  },
  {
   "cell_type": "code",
   "execution_count": null,
   "metadata": {},
   "outputs": [],
   "source": []
  }
 ],
 "metadata": {
  "interpreter": {
   "hash": "241e687e2a6674f2e504bb42d794692c309af558d00106a9753b31f4422e62b4"
  },
  "kernelspec": {
   "display_name": "Python 3.9.7 64-bit ('starrseq': conda)",
   "name": "python3"
  },
  "language_info": {
   "codemirror_mode": {
    "name": "ipython",
    "version": 3
   },
   "file_extension": ".py",
   "mimetype": "text/x-python",
   "name": "python",
   "nbconvert_exporter": "python",
   "pygments_lexer": "ipython3",
   "version": "3.9.7"
  },
  "orig_nbformat": 4
 },
 "nbformat": 4,
 "nbformat_minor": 2
}
