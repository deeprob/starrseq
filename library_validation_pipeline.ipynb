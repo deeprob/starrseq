{
 "cells": [
  {
   "cell_type": "markdown",
   "metadata": {},
   "source": [
    "# Check notebook is using the correct conda environment"
   ]
  },
  {
   "cell_type": "code",
   "execution_count": 1,
   "metadata": {},
   "outputs": [
    {
     "name": "stdout",
     "output_type": "stream",
     "text": [
      "/afs/bx.psu.edu/user/d/dzb5732/miniconda3/envs/starrseq/bin/python\n"
     ]
    }
   ],
   "source": [
    "!which python"
   ]
  },
  {
   "cell_type": "markdown",
   "metadata": {},
   "source": [
    "# Import modules"
   ]
  },
  {
   "cell_type": "code",
   "execution_count": 2,
   "metadata": {},
   "outputs": [
    {
     "data": {
      "text/html": [
       "\n",
       "    <div class=\"bk-root\">\n",
       "        <a href=\"https://bokeh.org\" target=\"_blank\" class=\"bk-logo bk-logo-small bk-logo-notebook\"></a>\n",
       "        <span id=\"1002\">Loading BokehJS ...</span>\n",
       "    </div>"
      ]
     },
     "metadata": {},
     "output_type": "display_data"
    },
    {
     "data": {
      "application/javascript": "\n(function(root) {\n  function now() {\n    return new Date();\n  }\n\n  const force = true;\n\n  if (typeof root._bokeh_onload_callbacks === \"undefined\" || force === true) {\n    root._bokeh_onload_callbacks = [];\n    root._bokeh_is_loading = undefined;\n  }\n\n  const JS_MIME_TYPE = 'application/javascript';\n  const HTML_MIME_TYPE = 'text/html';\n  const EXEC_MIME_TYPE = 'application/vnd.bokehjs_exec.v0+json';\n  const CLASS_NAME = 'output_bokeh rendered_html';\n\n  /**\n   * Render data to the DOM node\n   */\n  function render(props, node) {\n    const script = document.createElement(\"script\");\n    node.appendChild(script);\n  }\n\n  /**\n   * Handle when an output is cleared or removed\n   */\n  function handleClearOutput(event, handle) {\n    const cell = handle.cell;\n\n    const id = cell.output_area._bokeh_element_id;\n    const server_id = cell.output_area._bokeh_server_id;\n    // Clean up Bokeh references\n    if (id != null && id in Bokeh.index) {\n      Bokeh.index[id].model.document.clear();\n      delete Bokeh.index[id];\n    }\n\n    if (server_id !== undefined) {\n      // Clean up Bokeh references\n      const cmd_clean = \"from bokeh.io.state import curstate; print(curstate().uuid_to_server['\" + server_id + \"'].get_sessions()[0].document.roots[0]._id)\";\n      cell.notebook.kernel.execute(cmd_clean, {\n        iopub: {\n          output: function(msg) {\n            const id = msg.content.text.trim();\n            if (id in Bokeh.index) {\n              Bokeh.index[id].model.document.clear();\n              delete Bokeh.index[id];\n            }\n          }\n        }\n      });\n      // Destroy server and session\n      const cmd_destroy = \"import bokeh.io.notebook as ion; ion.destroy_server('\" + server_id + \"')\";\n      cell.notebook.kernel.execute(cmd_destroy);\n    }\n  }\n\n  /**\n   * Handle when a new output is added\n   */\n  function handleAddOutput(event, handle) {\n    const output_area = handle.output_area;\n    const output = handle.output;\n\n    // limit handleAddOutput to display_data with EXEC_MIME_TYPE content only\n    if ((output.output_type != \"display_data\") || (!Object.prototype.hasOwnProperty.call(output.data, EXEC_MIME_TYPE))) {\n      return\n    }\n\n    const toinsert = output_area.element.find(\".\" + CLASS_NAME.split(' ')[0]);\n\n    if (output.metadata[EXEC_MIME_TYPE][\"id\"] !== undefined) {\n      toinsert[toinsert.length - 1].firstChild.textContent = output.data[JS_MIME_TYPE];\n      // store reference to embed id on output_area\n      output_area._bokeh_element_id = output.metadata[EXEC_MIME_TYPE][\"id\"];\n    }\n    if (output.metadata[EXEC_MIME_TYPE][\"server_id\"] !== undefined) {\n      const bk_div = document.createElement(\"div\");\n      bk_div.innerHTML = output.data[HTML_MIME_TYPE];\n      const script_attrs = bk_div.children[0].attributes;\n      for (let i = 0; i < script_attrs.length; i++) {\n        toinsert[toinsert.length - 1].firstChild.setAttribute(script_attrs[i].name, script_attrs[i].value);\n        toinsert[toinsert.length - 1].firstChild.textContent = bk_div.children[0].textContent\n      }\n      // store reference to server id on output_area\n      output_area._bokeh_server_id = output.metadata[EXEC_MIME_TYPE][\"server_id\"];\n    }\n  }\n\n  function register_renderer(events, OutputArea) {\n\n    function append_mime(data, metadata, element) {\n      // create a DOM node to render to\n      const toinsert = this.create_output_subarea(\n        metadata,\n        CLASS_NAME,\n        EXEC_MIME_TYPE\n      );\n      this.keyboard_manager.register_events(toinsert);\n      // Render to node\n      const props = {data: data, metadata: metadata[EXEC_MIME_TYPE]};\n      render(props, toinsert[toinsert.length - 1]);\n      element.append(toinsert);\n      return toinsert\n    }\n\n    /* Handle when an output is cleared or removed */\n    events.on('clear_output.CodeCell', handleClearOutput);\n    events.on('delete.Cell', handleClearOutput);\n\n    /* Handle when a new output is added */\n    events.on('output_added.OutputArea', handleAddOutput);\n\n    /**\n     * Register the mime type and append_mime function with output_area\n     */\n    OutputArea.prototype.register_mime_type(EXEC_MIME_TYPE, append_mime, {\n      /* Is output safe? */\n      safe: true,\n      /* Index of renderer in `output_area.display_order` */\n      index: 0\n    });\n  }\n\n  // register the mime type if in Jupyter Notebook environment and previously unregistered\n  if (root.Jupyter !== undefined) {\n    const events = require('base/js/events');\n    const OutputArea = require('notebook/js/outputarea').OutputArea;\n\n    if (OutputArea.prototype.mime_types().indexOf(EXEC_MIME_TYPE) == -1) {\n      register_renderer(events, OutputArea);\n    }\n  }\n\n  \n  if (typeof (root._bokeh_timeout) === \"undefined\" || force === true) {\n    root._bokeh_timeout = Date.now() + 5000;\n    root._bokeh_failed_load = false;\n  }\n\n  const NB_LOAD_WARNING = {'data': {'text/html':\n     \"<div style='background-color: #fdd'>\\n\"+\n     \"<p>\\n\"+\n     \"BokehJS does not appear to have successfully loaded. If loading BokehJS from CDN, this \\n\"+\n     \"may be due to a slow or bad network connection. Possible fixes:\\n\"+\n     \"</p>\\n\"+\n     \"<ul>\\n\"+\n     \"<li>re-rerun `output_notebook()` to attempt to load from CDN again, or</li>\\n\"+\n     \"<li>use INLINE resources instead, as so:</li>\\n\"+\n     \"</ul>\\n\"+\n     \"<code>\\n\"+\n     \"from bokeh.resources import INLINE\\n\"+\n     \"output_notebook(resources=INLINE)\\n\"+\n     \"</code>\\n\"+\n     \"</div>\"}};\n\n  function display_loaded() {\n    const el = document.getElementById(\"1002\");\n    if (el != null) {\n      el.textContent = \"BokehJS is loading...\";\n    }\n    if (root.Bokeh !== undefined) {\n      if (el != null) {\n        el.textContent = \"BokehJS \" + root.Bokeh.version + \" successfully loaded.\";\n      }\n    } else if (Date.now() < root._bokeh_timeout) {\n      setTimeout(display_loaded, 100)\n    }\n  }\n\n\n  function run_callbacks() {\n    try {\n      root._bokeh_onload_callbacks.forEach(function(callback) {\n        if (callback != null)\n          callback();\n      });\n    } finally {\n      delete root._bokeh_onload_callbacks\n    }\n    console.debug(\"Bokeh: all callbacks have finished\");\n  }\n\n  function load_libs(css_urls, js_urls, callback) {\n    if (css_urls == null) css_urls = [];\n    if (js_urls == null) js_urls = [];\n\n    root._bokeh_onload_callbacks.push(callback);\n    if (root._bokeh_is_loading > 0) {\n      console.debug(\"Bokeh: BokehJS is being loaded, scheduling callback at\", now());\n      return null;\n    }\n    if (js_urls == null || js_urls.length === 0) {\n      run_callbacks();\n      return null;\n    }\n    console.debug(\"Bokeh: BokehJS not loaded, scheduling load and callback at\", now());\n    root._bokeh_is_loading = css_urls.length + js_urls.length;\n\n    function on_load() {\n      root._bokeh_is_loading--;\n      if (root._bokeh_is_loading === 0) {\n        console.debug(\"Bokeh: all BokehJS libraries/stylesheets loaded\");\n        run_callbacks()\n      }\n    }\n\n    function on_error(url) {\n      console.error(\"failed to load \" + url);\n    }\n\n    for (let i = 0; i < css_urls.length; i++) {\n      const url = css_urls[i];\n      const element = document.createElement(\"link\");\n      element.onload = on_load;\n      element.onerror = on_error.bind(null, url);\n      element.rel = \"stylesheet\";\n      element.type = \"text/css\";\n      element.href = url;\n      console.debug(\"Bokeh: injecting link tag for BokehJS stylesheet: \", url);\n      document.body.appendChild(element);\n    }\n\n    for (let i = 0; i < js_urls.length; i++) {\n      const url = js_urls[i];\n      const element = document.createElement('script');\n      element.onload = on_load;\n      element.onerror = on_error.bind(null, url);\n      element.async = false;\n      element.src = url;\n      console.debug(\"Bokeh: injecting script tag for BokehJS library: \", url);\n      document.head.appendChild(element);\n    }\n  };\n\n  function inject_raw_css(css) {\n    const element = document.createElement(\"style\");\n    element.appendChild(document.createTextNode(css));\n    document.body.appendChild(element);\n  }\n\n  \n  const js_urls = [\"https://cdn.bokeh.org/bokeh/release/bokeh-2.4.1.min.js\", \"https://cdn.bokeh.org/bokeh/release/bokeh-gl-2.4.1.min.js\", \"https://cdn.bokeh.org/bokeh/release/bokeh-widgets-2.4.1.min.js\", \"https://cdn.bokeh.org/bokeh/release/bokeh-tables-2.4.1.min.js\", \"https://cdn.bokeh.org/bokeh/release/bokeh-mathjax-2.4.1.min.js\"];\n  const css_urls = [];\n  \n\n  const inline_js = [\n    function(Bokeh) {\n      Bokeh.set_log_level(\"info\");\n    },\n    function(Bokeh) {\n    \n    \n    }\n  ];\n\n  function run_inline_js() {\n    \n    if (root.Bokeh !== undefined || force === true) {\n      \n    for (let i = 0; i < inline_js.length; i++) {\n      inline_js[i].call(root, root.Bokeh);\n    }\n    if (force === true) {\n        display_loaded();\n      }} else if (Date.now() < root._bokeh_timeout) {\n      setTimeout(run_inline_js, 100);\n    } else if (!root._bokeh_failed_load) {\n      console.log(\"Bokeh: BokehJS failed to load within specified timeout.\");\n      root._bokeh_failed_load = true;\n    } else if (force !== true) {\n      const cell = $(document.getElementById(\"1002\")).parents('.cell').data().cell;\n      cell.output_area.append_execute_result(NB_LOAD_WARNING)\n    }\n\n  }\n\n  if (root._bokeh_is_loading === 0) {\n    console.debug(\"Bokeh: BokehJS loaded, going straight to plotting\");\n    run_inline_js();\n  } else {\n    load_libs(css_urls, js_urls, function() {\n      console.debug(\"Bokeh: BokehJS plotting callback run at\", now());\n      run_inline_js();\n    });\n  }\n}(window));",
      "application/vnd.bokehjs_load.v0+json": ""
     },
     "metadata": {},
     "output_type": "display_data"
    }
   ],
   "source": [
    "import sys\n",
    "from itertools import starmap\n",
    "\n",
    "from bokeh.io import output_notebook\n",
    "from bokeh.plotting import show\n",
    "from bokeh.layouts import row\n",
    "\n",
    "output_notebook()"
   ]
  },
  {
   "cell_type": "code",
   "execution_count": 3,
   "metadata": {},
   "outputs": [],
   "source": [
    "# internal modules\n",
    "sys.path.append(\"./src/\")"
   ]
  },
  {
   "cell_type": "code",
   "execution_count": 4,
   "metadata": {},
   "outputs": [],
   "source": [
    "from create_arguments import create_args\n",
    "from utils.verify_reads import create_coverage_beds\n",
    "from utils.validation_helper import get_tsv, rep_bed_to_corr_mat, get_intra_lib_rep_corr_plot, get_fractional_base_coverage_plot, print_library_bp_coverage_stats"
   ]
  },
  {
   "cell_type": "markdown",
   "metadata": {},
   "source": [
    "# Arguments"
   ]
  },
  {
   "cell_type": "code",
   "execution_count": 6,
   "metadata": {},
   "outputs": [],
   "source": [
    "# TODO: get arguments should be a separate module\n",
    "##### METADATA #####\n",
    "meta_file = \"./data/metadata.json\"\n",
    "\n",
    "##### GLOBALS #####\n",
    "KO_NAME = \"atf2\" # can be 16p12.1, atf2, ctcf, foxa1, lef1, scrt1, tcf7l2\n",
    "REFGEN = \"/data5/deepro/genomes/GRCh38_no_alt_analysis_set_GCA_000001405.15.fasta\"\n",
    "ROISORTED = \"/afs/bx.psu.edu/user/d/dzb5732/work/girirajan_lab/starrseq/data/master.sorted.bed\"\n",
    "ROIMASTER = \"/afs/bx.psu.edu/user/d/dzb5732/work/girirajan_lab/starrseq/data/enhancer_master_list_hek293.bed\"\n",
    "\n",
    "##### FLAGS #####\n",
    "RUN=False\n",
    "INPUT_FLAG=True\n",
    "CONTROL_FLAG=True\n",
    "\n",
    "args = create_args(meta_file, KO_NAME, REFGEN, ROIMASTER, ROISORTED, run=RUN, input_flag=INPUT_FLAG, control_flag=CONTROL_FLAG)"
   ]
  },
  {
   "cell_type": "markdown",
   "metadata": {},
   "source": [
    "# Library validation"
   ]
  },
  {
   "cell_type": "markdown",
   "metadata": {},
   "source": [
    "## Check coverage of the filtered libraries against the regions of interest"
   ]
  },
  {
   "cell_type": "code",
   "execution_count": 7,
   "metadata": {},
   "outputs": [],
   "source": [
    "# library replicates coverage with ROI\n",
    "if args.run:\n",
    "    create_coverage_beds(args.region_of_interest_sorted, \n",
    "                        args.input_library_aligned_prefix, args.input_library_reps, \n",
    "                        args.control_library_aligned_prefix, args.control_library_reps, \n",
    "                        args.ko_library_aligned_prefix, args.ko_library_reps,\n",
    "                        iflag=args.input_flag, cflag=args.control_flag)"
   ]
  },
  {
   "cell_type": "code",
   "execution_count": 8,
   "metadata": {},
   "outputs": [],
   "source": [
    "# merged library coverage with ROI\n",
    "if args.run:\n",
    "    create_coverage_beds(args.region_of_interest_sorted, \n",
    "                        args.input_library_filtered_prefix, \"\", \n",
    "                        args.control_library_filtered_prefix, \"\", \n",
    "                        args.ko_library_filtered_prefix, \"\",\n",
    "                        iflag=args.input_flag, cflag=args.control_flag)"
   ]
  },
  {
   "cell_type": "markdown",
   "metadata": {},
   "source": [
    "## Replicate wise intra library correlation"
   ]
  },
  {
   "cell_type": "markdown",
   "metadata": {},
   "source": [
    "### Coverage\n",
    "Counts of reads that maps, partially (1bp) or fully to a region of interest"
   ]
  },
  {
   "cell_type": "code",
   "execution_count": 9,
   "metadata": {},
   "outputs": [],
   "source": [
    "map_args = [\n",
    "    (args.input_library_aligned_prefix, args.input_library_reps, \"filtered.coverage.bed\", 3),\n",
    "    (args.control_library_aligned_prefix, args.control_library_reps, \"filtered.coverage.bed\", 3),\n",
    "    (args.ko_library_aligned_prefix, args.ko_library_reps, \"filtered.coverage.bed\", 3)\n",
    "]\n",
    "\n",
    "corrmats = list(starmap(rep_bed_to_corr_mat, map_args))"
   ]
  },
  {
   "cell_type": "code",
   "execution_count": 10,
   "metadata": {},
   "outputs": [
    {
     "data": {
      "text/html": [
       "\n",
       "\n",
       "\n",
       "\n",
       "\n",
       "\n",
       "  <div class=\"bk-root\" id=\"c2454bc3-44a6-42c4-9c7c-71b2ba9d67b8\" data-root-id=\"1007\"></div>\n"
      ]
     },
     "metadata": {},
     "output_type": "display_data"
    },
    {
     "data": {
      "application/javascript": "(function(root) {\n  function embed_document(root) {\n    \n  const docs_json = {\"9f9811a2-2d47-408a-9341-ab7881a8204f\":{\"defs\":[],\"roots\":{\"references\":[{\"attributes\":{\"below\":[{\"id\":\"1016\"}],\"center\":[{\"id\":\"1018\"},{\"id\":\"1021\"}],\"height\":300,\"left\":[{\"id\":\"1019\"}],\"renderers\":[{\"id\":\"1038\"},{\"id\":\"1045\"}],\"right\":[{\"id\":\"1040\"}],\"title\":{\"id\":\"1008\"},\"toolbar\":{\"id\":\"1028\"},\"toolbar_location\":\"left\",\"width\":900,\"x_range\":{\"id\":\"1005\"},\"x_scale\":{\"id\":\"1012\"},\"y_range\":{\"id\":\"1006\"},\"y_scale\":{\"id\":\"1014\"}},\"id\":\"1007\",\"subtype\":\"Figure\",\"type\":\"Plot\"},{\"attributes\":{},\"id\":\"1025\",\"type\":\"ResetTool\"},{\"attributes\":{\"fill_color\":{\"field\":\"values\",\"transform\":{\"id\":\"1003\"}},\"height\":{\"value\":0.95},\"line_color\":{\"value\":null},\"width\":{\"value\":0.95},\"x\":{\"field\":\"a\"},\"y\":{\"field\":\"b\"}},\"id\":\"1035\",\"type\":\"Rect\"},{\"attributes\":{},\"id\":\"1022\",\"type\":\"SaveTool\"},{\"attributes\":{},\"id\":\"1014\",\"type\":\"CategoricalScale\"},{\"attributes\":{\"fill_alpha\":{\"value\":0.1},\"fill_color\":{\"field\":\"values\",\"transform\":{\"id\":\"1003\"}},\"hatch_alpha\":{\"value\":0.1},\"height\":{\"value\":0.95},\"line_alpha\":{\"value\":0.1},\"line_color\":{\"value\":null},\"width\":{\"value\":0.95},\"x\":{\"field\":\"a\"},\"y\":{\"field\":\"b\"}},\"id\":\"1036\",\"type\":\"Rect\"},{\"attributes\":{},\"id\":\"1012\",\"type\":\"CategoricalScale\"},{\"attributes\":{},\"id\":\"1023\",\"type\":\"PanTool\"},{\"attributes\":{},\"id\":\"1055\",\"type\":\"UnionRenderers\"},{\"attributes\":{\"factors\":[\"Rep_1\",\"Rep_2\",\"Rep_3\"]},\"id\":\"1006\",\"type\":\"FactorRange\"},{\"attributes\":{\"text_align\":{\"value\":\"center\"},\"text_baseline\":{\"value\":\"middle\"},\"text_color\":{\"value\":\"black\"},\"x\":{\"field\":\"x\"},\"y\":{\"field\":\"y\"}},\"id\":\"1042\",\"type\":\"Text\"},{\"attributes\":{\"fill_alpha\":{\"value\":0.2},\"fill_color\":{\"field\":\"values\",\"transform\":{\"id\":\"1003\"}},\"hatch_alpha\":{\"value\":0.2},\"height\":{\"value\":0.95},\"line_alpha\":{\"value\":0.2},\"line_color\":{\"value\":null},\"width\":{\"value\":0.95},\"x\":{\"field\":\"a\"},\"y\":{\"field\":\"b\"}},\"id\":\"1037\",\"type\":\"Rect\"},{\"attributes\":{},\"id\":\"1056\",\"type\":\"Selection\"},{\"attributes\":{\"source\":{\"id\":\"1004\"}},\"id\":\"1039\",\"type\":\"CDSView\"},{\"attributes\":{},\"id\":\"1020\",\"type\":\"CategoricalTicker\"},{\"attributes\":{\"coordinates\":null,\"data_source\":{\"id\":\"1004\"},\"glyph\":{\"id\":\"1035\"},\"group\":null,\"hover_glyph\":null,\"muted_glyph\":{\"id\":\"1037\"},\"nonselection_glyph\":{\"id\":\"1036\"},\"view\":{\"id\":\"1039\"}},\"id\":\"1038\",\"type\":\"GlyphRenderer\"},{\"attributes\":{\"tools\":[{\"id\":\"1022\"},{\"id\":\"1023\"},{\"id\":\"1024\"},{\"id\":\"1025\"},{\"id\":\"1026\"}]},\"id\":\"1028\",\"type\":\"Toolbar\"},{\"attributes\":{\"color_mapper\":{\"id\":\"1003\"},\"coordinates\":null,\"group\":null,\"major_label_policy\":{\"id\":\"1051\"},\"major_label_text_font_size\":\"7px\"},\"id\":\"1040\",\"type\":\"ColorBar\"},{\"attributes\":{\"data\":{\"text\":[1.0,0.994,0.995,0.994,1.0,0.994,0.995,0.994,1.0,1.0,0.992,0.986,0.992,1.0,0.983,0.986,0.983,1.0,1.0,0.857,0.909,0.857,1.0,0.986,0.909,0.986,1.0],\"x\":[[\"Input\",\"Rep_1\"],[\"Input\",\"Rep_1\"],[\"Input\",\"Rep_1\"],[\"Input\",\"Rep_2\"],[\"Input\",\"Rep_2\"],[\"Input\",\"Rep_2\"],[\"Input\",\"Rep_3\"],[\"Input\",\"Rep_3\"],[\"Input\",\"Rep_3\"],[\"Control\",\"Rep_1\"],[\"Control\",\"Rep_1\"],[\"Control\",\"Rep_1\"],[\"Control\",\"Rep_2\"],[\"Control\",\"Rep_2\"],[\"Control\",\"Rep_2\"],[\"Control\",\"Rep_3\"],[\"Control\",\"Rep_3\"],[\"Control\",\"Rep_3\"],[\"KO\",\"Rep_1\"],[\"KO\",\"Rep_1\"],[\"KO\",\"Rep_1\"],[\"KO\",\"Rep_2\"],[\"KO\",\"Rep_2\"],[\"KO\",\"Rep_2\"],[\"KO\",\"Rep_3\"],[\"KO\",\"Rep_3\"],[\"KO\",\"Rep_3\"]],\"y\":[\"Rep_1\",\"Rep_2\",\"Rep_3\",\"Rep_1\",\"Rep_2\",\"Rep_3\",\"Rep_1\",\"Rep_2\",\"Rep_3\",\"Rep_1\",\"Rep_2\",\"Rep_3\",\"Rep_1\",\"Rep_2\",\"Rep_3\",\"Rep_1\",\"Rep_2\",\"Rep_3\",\"Rep_1\",\"Rep_2\",\"Rep_3\",\"Rep_1\",\"Rep_2\",\"Rep_3\",\"Rep_1\",\"Rep_2\",\"Rep_3\"]},\"selected\":{\"id\":\"1058\"},\"selection_policy\":{\"id\":\"1057\"}},\"id\":\"1041\",\"type\":\"ColumnDataSource\"},{\"attributes\":{},\"id\":\"1049\",\"type\":\"CategoricalTickFormatter\"},{\"attributes\":{\"coordinates\":null,\"data_source\":{\"id\":\"1041\"},\"glyph\":{\"id\":\"1042\"},\"group\":null,\"hover_glyph\":null,\"muted_glyph\":{\"id\":\"1044\"},\"nonselection_glyph\":{\"id\":\"1043\"},\"view\":{\"id\":\"1046\"}},\"id\":\"1045\",\"type\":\"GlyphRenderer\"},{\"attributes\":{\"text_align\":{\"value\":\"center\"},\"text_alpha\":{\"value\":0.2},\"text_baseline\":{\"value\":\"middle\"},\"text_color\":{\"value\":\"black\"},\"x\":{\"field\":\"x\"},\"y\":{\"field\":\"y\"}},\"id\":\"1044\",\"type\":\"Text\"},{\"attributes\":{\"axis\":{\"id\":\"1019\"},\"coordinates\":null,\"dimension\":1,\"grid_line_color\":null,\"group\":null,\"ticker\":null},\"id\":\"1021\",\"type\":\"Grid\"},{\"attributes\":{\"source\":{\"id\":\"1041\"}},\"id\":\"1046\",\"type\":\"CDSView\"},{\"attributes\":{\"text_align\":{\"value\":\"center\"},\"text_alpha\":{\"value\":0.1},\"text_baseline\":{\"value\":\"middle\"},\"text_color\":{\"value\":\"black\"},\"x\":{\"field\":\"x\"},\"y\":{\"field\":\"y\"}},\"id\":\"1043\",\"type\":\"Text\"},{\"attributes\":{\"high\":1,\"low\":0.857261362281998,\"palette\":[\"#08306b\",\"#08519c\",\"#2171b5\",\"#4292c6\",\"#6baed6\",\"#9ecae1\",\"#c6dbef\",\"#deebf7\",\"#f7fbff\"]},\"id\":\"1003\",\"type\":\"LinearColorMapper\"},{\"attributes\":{\"axis_line_color\":null,\"coordinates\":null,\"formatter\":{\"id\":\"1049\"},\"group\":null,\"major_label_policy\":{\"id\":\"1050\"},\"major_label_standoff\":0,\"major_label_text_font_size\":\"7px\",\"major_tick_line_color\":null,\"ticker\":{\"id\":\"1020\"}},\"id\":\"1019\",\"type\":\"CategoricalAxis\"},{\"attributes\":{},\"id\":\"1050\",\"type\":\"AllLabels\"},{\"attributes\":{\"coordinates\":null,\"group\":null,\"text\":\"Intra library replicate correlation of read counts\"},\"id\":\"1008\",\"type\":\"Title\"},{\"attributes\":{},\"id\":\"1017\",\"type\":\"CategoricalTicker\"},{\"attributes\":{\"axis\":{\"id\":\"1016\"},\"coordinates\":null,\"grid_line_color\":null,\"group\":null,\"ticker\":null},\"id\":\"1018\",\"type\":\"Grid\"},{\"attributes\":{},\"id\":\"1057\",\"type\":\"UnionRenderers\"},{\"attributes\":{},\"id\":\"1051\",\"type\":\"NoOverlap\"},{\"attributes\":{\"bottom_units\":\"screen\",\"coordinates\":null,\"fill_alpha\":0.5,\"fill_color\":\"lightgrey\",\"group\":null,\"left_units\":\"screen\",\"level\":\"overlay\",\"line_alpha\":1.0,\"line_color\":\"black\",\"line_dash\":[4,4],\"line_width\":2,\"right_units\":\"screen\",\"syncable\":false,\"top_units\":\"screen\"},\"id\":\"1027\",\"type\":\"BoxAnnotation\"},{\"attributes\":{\"factors\":[[\"Input\",\"Rep_1\"],[\"Input\",\"Rep_2\"],[\"Input\",\"Rep_3\"],[\"Control\",\"Rep_1\"],[\"Control\",\"Rep_2\"],[\"Control\",\"Rep_3\"],[\"KO\",\"Rep_1\"],[\"KO\",\"Rep_2\"],[\"KO\",\"Rep_3\"]]},\"id\":\"1005\",\"type\":\"FactorRange\"},{\"attributes\":{},\"id\":\"1058\",\"type\":\"Selection\"},{\"attributes\":{\"axis_line_color\":null,\"coordinates\":null,\"formatter\":{\"id\":\"1053\"},\"group\":null,\"major_label_policy\":{\"id\":\"1054\"},\"major_label_standoff\":0,\"major_label_text_font_size\":\"7px\",\"major_tick_line_color\":null,\"ticker\":{\"id\":\"1017\"}},\"id\":\"1016\",\"type\":\"CategoricalAxis\"},{\"attributes\":{},\"id\":\"1053\",\"type\":\"CategoricalTickFormatter\"},{\"attributes\":{},\"id\":\"1026\",\"type\":\"WheelZoomTool\"},{\"attributes\":{},\"id\":\"1054\",\"type\":\"AllLabels\"},{\"attributes\":{\"data\":{\"a\":[[\"Input\",\"Rep_1\"],[\"Input\",\"Rep_1\"],[\"Input\",\"Rep_1\"],[\"Input\",\"Rep_2\"],[\"Input\",\"Rep_2\"],[\"Input\",\"Rep_2\"],[\"Input\",\"Rep_3\"],[\"Input\",\"Rep_3\"],[\"Input\",\"Rep_3\"],[\"Control\",\"Rep_1\"],[\"Control\",\"Rep_1\"],[\"Control\",\"Rep_1\"],[\"Control\",\"Rep_2\"],[\"Control\",\"Rep_2\"],[\"Control\",\"Rep_2\"],[\"Control\",\"Rep_3\"],[\"Control\",\"Rep_3\"],[\"Control\",\"Rep_3\"],[\"KO\",\"Rep_1\"],[\"KO\",\"Rep_1\"],[\"KO\",\"Rep_1\"],[\"KO\",\"Rep_2\"],[\"KO\",\"Rep_2\"],[\"KO\",\"Rep_2\"],[\"KO\",\"Rep_3\"],[\"KO\",\"Rep_3\"],[\"KO\",\"Rep_3\"]],\"b\":[\"Rep_1\",\"Rep_2\",\"Rep_3\",\"Rep_1\",\"Rep_2\",\"Rep_3\",\"Rep_1\",\"Rep_2\",\"Rep_3\",\"Rep_1\",\"Rep_2\",\"Rep_3\",\"Rep_1\",\"Rep_2\",\"Rep_3\",\"Rep_1\",\"Rep_2\",\"Rep_3\",\"Rep_1\",\"Rep_2\",\"Rep_3\",\"Rep_1\",\"Rep_2\",\"Rep_3\",\"Rep_1\",\"Rep_2\",\"Rep_3\"],\"values\":[1.0,0.994,0.995,0.994,1.0,0.994,0.995,0.994,1.0,1.0,0.992,0.986,0.992,1.0,0.983,0.986,0.983,1.0,1.0,0.857,0.909,0.857,1.0,0.986,0.909,0.986,1.0]},\"selected\":{\"id\":\"1056\"},\"selection_policy\":{\"id\":\"1055\"}},\"id\":\"1004\",\"type\":\"ColumnDataSource\"},{\"attributes\":{\"overlay\":{\"id\":\"1027\"}},\"id\":\"1024\",\"type\":\"BoxZoomTool\"}],\"root_ids\":[\"1007\"]},\"title\":\"Bokeh Application\",\"version\":\"2.4.1\"}};\n  const render_items = [{\"docid\":\"9f9811a2-2d47-408a-9341-ab7881a8204f\",\"root_ids\":[\"1007\"],\"roots\":{\"1007\":\"c2454bc3-44a6-42c4-9c7c-71b2ba9d67b8\"}}];\n  root.Bokeh.embed.embed_items_notebook(docs_json, render_items);\n\n  }\n  if (root.Bokeh !== undefined) {\n    embed_document(root);\n  } else {\n    let attempts = 0;\n    const timer = setInterval(function(root) {\n      if (root.Bokeh !== undefined) {\n        clearInterval(timer);\n        embed_document(root);\n      } else {\n        attempts++;\n        if (attempts > 100) {\n          clearInterval(timer);\n          console.log(\"Bokeh: ERROR: Unable to run BokehJS code because BokehJS library is missing\");\n        }\n      }\n    }, 10, root)\n  }\n})(window);",
      "application/vnd.bokehjs_exec.v0+json": ""
     },
     "metadata": {
      "application/vnd.bokehjs_exec.v0+json": {
       "id": "1007"
      }
     },
     "output_type": "display_data"
    }
   ],
   "source": [
    "# Correlation matrices together\n",
    "get_intra_lib_rep_corr_plot(*corrmats, fig_title=\"Intra library replicate correlation of read counts\")"
   ]
  },
  {
   "cell_type": "markdown",
   "metadata": {},
   "source": [
    "### Depth\n",
    "Per base pair coverage of a region of interest"
   ]
  },
  {
   "cell_type": "code",
   "execution_count": 11,
   "metadata": {},
   "outputs": [],
   "source": [
    "map_args = [\n",
    "    (args.input_library_aligned_prefix, args.input_library_reps, \"filtered.depth.bed\", 4),\n",
    "    (args.control_library_aligned_prefix, args.control_library_reps, \"filtered.depth.bed\", 4),\n",
    "    (args.ko_library_aligned_prefix, args.ko_library_reps, \"filtered.depth.bed\", 4)\n",
    "]\n",
    "\n",
    "corrmats = list(starmap(rep_bed_to_corr_mat, map_args))"
   ]
  },
  {
   "cell_type": "code",
   "execution_count": 12,
   "metadata": {},
   "outputs": [
    {
     "data": {
      "text/html": [
       "\n",
       "\n",
       "\n",
       "\n",
       "\n",
       "\n",
       "  <div class=\"bk-root\" id=\"cf7b1c7b-f604-4f19-b7ee-b1cffcf608d2\" data-root-id=\"1129\"></div>\n"
      ]
     },
     "metadata": {},
     "output_type": "display_data"
    },
    {
     "data": {
      "application/javascript": "(function(root) {\n  function embed_document(root) {\n    \n  const docs_json = {\"ce60c8ea-067a-4150-b398-55f1db7e6623\":{\"defs\":[],\"roots\":{\"references\":[{\"attributes\":{\"below\":[{\"id\":\"1138\"}],\"center\":[{\"id\":\"1140\"},{\"id\":\"1143\"}],\"height\":300,\"left\":[{\"id\":\"1141\"}],\"renderers\":[{\"id\":\"1160\"},{\"id\":\"1167\"}],\"right\":[{\"id\":\"1162\"}],\"title\":{\"id\":\"1130\"},\"toolbar\":{\"id\":\"1150\"},\"toolbar_location\":\"left\",\"width\":900,\"x_range\":{\"id\":\"1127\"},\"x_scale\":{\"id\":\"1134\"},\"y_range\":{\"id\":\"1128\"},\"y_scale\":{\"id\":\"1136\"}},\"id\":\"1129\",\"subtype\":\"Figure\",\"type\":\"Plot\"},{\"attributes\":{\"coordinates\":null,\"data_source\":{\"id\":\"1163\"},\"glyph\":{\"id\":\"1164\"},\"group\":null,\"hover_glyph\":null,\"muted_glyph\":{\"id\":\"1166\"},\"nonselection_glyph\":{\"id\":\"1165\"},\"view\":{\"id\":\"1168\"}},\"id\":\"1167\",\"type\":\"GlyphRenderer\"},{\"attributes\":{\"text_align\":{\"value\":\"center\"},\"text_alpha\":{\"value\":0.2},\"text_baseline\":{\"value\":\"middle\"},\"text_color\":{\"value\":\"black\"},\"x\":{\"field\":\"x\"},\"y\":{\"field\":\"y\"}},\"id\":\"1166\",\"type\":\"Text\"},{\"attributes\":{},\"id\":\"1186\",\"type\":\"NoOverlap\"},{\"attributes\":{\"bottom_units\":\"screen\",\"coordinates\":null,\"fill_alpha\":0.5,\"fill_color\":\"lightgrey\",\"group\":null,\"left_units\":\"screen\",\"level\":\"overlay\",\"line_alpha\":1.0,\"line_color\":\"black\",\"line_dash\":[4,4],\"line_width\":2,\"right_units\":\"screen\",\"syncable\":false,\"top_units\":\"screen\"},\"id\":\"1149\",\"type\":\"BoxAnnotation\"},{\"attributes\":{},\"id\":\"1144\",\"type\":\"SaveTool\"},{\"attributes\":{},\"id\":\"1188\",\"type\":\"CategoricalTickFormatter\"},{\"attributes\":{\"fill_alpha\":{\"value\":0.1},\"fill_color\":{\"field\":\"values\",\"transform\":{\"id\":\"1125\"}},\"hatch_alpha\":{\"value\":0.1},\"height\":{\"value\":0.95},\"line_alpha\":{\"value\":0.1},\"line_color\":{\"value\":null},\"width\":{\"value\":0.95},\"x\":{\"field\":\"a\"},\"y\":{\"field\":\"b\"}},\"id\":\"1158\",\"type\":\"Rect\"},{\"attributes\":{},\"id\":\"1191\",\"type\":\"Selection\"},{\"attributes\":{},\"id\":\"1142\",\"type\":\"CategoricalTicker\"},{\"attributes\":{},\"id\":\"1189\",\"type\":\"AllLabels\"},{\"attributes\":{\"tools\":[{\"id\":\"1144\"},{\"id\":\"1145\"},{\"id\":\"1146\"},{\"id\":\"1147\"},{\"id\":\"1148\"}]},\"id\":\"1150\",\"type\":\"Toolbar\"},{\"attributes\":{\"fill_alpha\":{\"value\":0.2},\"fill_color\":{\"field\":\"values\",\"transform\":{\"id\":\"1125\"}},\"hatch_alpha\":{\"value\":0.2},\"height\":{\"value\":0.95},\"line_alpha\":{\"value\":0.2},\"line_color\":{\"value\":null},\"width\":{\"value\":0.95},\"x\":{\"field\":\"a\"},\"y\":{\"field\":\"b\"}},\"id\":\"1159\",\"type\":\"Rect\"},{\"attributes\":{\"factors\":[[\"Input\",\"Rep_1\"],[\"Input\",\"Rep_2\"],[\"Input\",\"Rep_3\"],[\"Control\",\"Rep_1\"],[\"Control\",\"Rep_2\"],[\"Control\",\"Rep_3\"],[\"KO\",\"Rep_1\"],[\"KO\",\"Rep_2\"],[\"KO\",\"Rep_3\"]]},\"id\":\"1127\",\"type\":\"FactorRange\"},{\"attributes\":{\"high\":1,\"low\":0.7749586921274587,\"palette\":[\"#08306b\",\"#08519c\",\"#2171b5\",\"#4292c6\",\"#6baed6\",\"#9ecae1\",\"#c6dbef\",\"#deebf7\",\"#f7fbff\"]},\"id\":\"1125\",\"type\":\"LinearColorMapper\"},{\"attributes\":{},\"id\":\"1147\",\"type\":\"ResetTool\"},{\"attributes\":{},\"id\":\"1190\",\"type\":\"UnionRenderers\"},{\"attributes\":{\"data\":{\"a\":[[\"Input\",\"Rep_1\"],[\"Input\",\"Rep_1\"],[\"Input\",\"Rep_1\"],[\"Input\",\"Rep_2\"],[\"Input\",\"Rep_2\"],[\"Input\",\"Rep_2\"],[\"Input\",\"Rep_3\"],[\"Input\",\"Rep_3\"],[\"Input\",\"Rep_3\"],[\"Control\",\"Rep_1\"],[\"Control\",\"Rep_1\"],[\"Control\",\"Rep_1\"],[\"Control\",\"Rep_2\"],[\"Control\",\"Rep_2\"],[\"Control\",\"Rep_2\"],[\"Control\",\"Rep_3\"],[\"Control\",\"Rep_3\"],[\"Control\",\"Rep_3\"],[\"KO\",\"Rep_1\"],[\"KO\",\"Rep_1\"],[\"KO\",\"Rep_1\"],[\"KO\",\"Rep_2\"],[\"KO\",\"Rep_2\"],[\"KO\",\"Rep_2\"],[\"KO\",\"Rep_3\"],[\"KO\",\"Rep_3\"],[\"KO\",\"Rep_3\"]],\"b\":[\"Rep_1\",\"Rep_2\",\"Rep_3\",\"Rep_1\",\"Rep_2\",\"Rep_3\",\"Rep_1\",\"Rep_2\",\"Rep_3\",\"Rep_1\",\"Rep_2\",\"Rep_3\",\"Rep_1\",\"Rep_2\",\"Rep_3\",\"Rep_1\",\"Rep_2\",\"Rep_3\",\"Rep_1\",\"Rep_2\",\"Rep_3\",\"Rep_1\",\"Rep_2\",\"Rep_3\",\"Rep_1\",\"Rep_2\",\"Rep_3\"],\"values\":[1.0,0.968,0.97,0.968,1.0,0.967,0.97,0.967,1.0,1.0,0.985,0.976,0.985,1.0,0.973,0.976,0.973,1.0,1.0,0.775,0.859,0.775,1.0,0.96,0.859,0.96,1.0]},\"selected\":{\"id\":\"1191\"},\"selection_policy\":{\"id\":\"1190\"}},\"id\":\"1126\",\"type\":\"ColumnDataSource\"},{\"attributes\":{\"factors\":[\"Rep_1\",\"Rep_2\",\"Rep_3\"]},\"id\":\"1128\",\"type\":\"FactorRange\"},{\"attributes\":{\"data\":{\"text\":[1.0,0.968,0.97,0.968,1.0,0.967,0.97,0.967,1.0,1.0,0.985,0.976,0.985,1.0,0.973,0.976,0.973,1.0,1.0,0.775,0.859,0.775,1.0,0.96,0.859,0.96,1.0],\"x\":[[\"Input\",\"Rep_1\"],[\"Input\",\"Rep_1\"],[\"Input\",\"Rep_1\"],[\"Input\",\"Rep_2\"],[\"Input\",\"Rep_2\"],[\"Input\",\"Rep_2\"],[\"Input\",\"Rep_3\"],[\"Input\",\"Rep_3\"],[\"Input\",\"Rep_3\"],[\"Control\",\"Rep_1\"],[\"Control\",\"Rep_1\"],[\"Control\",\"Rep_1\"],[\"Control\",\"Rep_2\"],[\"Control\",\"Rep_2\"],[\"Control\",\"Rep_2\"],[\"Control\",\"Rep_3\"],[\"Control\",\"Rep_3\"],[\"Control\",\"Rep_3\"],[\"KO\",\"Rep_1\"],[\"KO\",\"Rep_1\"],[\"KO\",\"Rep_1\"],[\"KO\",\"Rep_2\"],[\"KO\",\"Rep_2\"],[\"KO\",\"Rep_2\"],[\"KO\",\"Rep_3\"],[\"KO\",\"Rep_3\"],[\"KO\",\"Rep_3\"]],\"y\":[\"Rep_1\",\"Rep_2\",\"Rep_3\",\"Rep_1\",\"Rep_2\",\"Rep_3\",\"Rep_1\",\"Rep_2\",\"Rep_3\",\"Rep_1\",\"Rep_2\",\"Rep_3\",\"Rep_1\",\"Rep_2\",\"Rep_3\",\"Rep_1\",\"Rep_2\",\"Rep_3\",\"Rep_1\",\"Rep_2\",\"Rep_3\",\"Rep_1\",\"Rep_2\",\"Rep_3\",\"Rep_1\",\"Rep_2\",\"Rep_3\"]},\"selected\":{\"id\":\"1193\"},\"selection_policy\":{\"id\":\"1192\"}},\"id\":\"1163\",\"type\":\"ColumnDataSource\"},{\"attributes\":{\"color_mapper\":{\"id\":\"1125\"},\"coordinates\":null,\"group\":null,\"major_label_policy\":{\"id\":\"1186\"},\"major_label_text_font_size\":\"7px\"},\"id\":\"1162\",\"type\":\"ColorBar\"},{\"attributes\":{},\"id\":\"1145\",\"type\":\"PanTool\"},{\"attributes\":{\"text_align\":{\"value\":\"center\"},\"text_baseline\":{\"value\":\"middle\"},\"text_color\":{\"value\":\"black\"},\"x\":{\"field\":\"x\"},\"y\":{\"field\":\"y\"}},\"id\":\"1164\",\"type\":\"Text\"},{\"attributes\":{},\"id\":\"1184\",\"type\":\"CategoricalTickFormatter\"},{\"attributes\":{},\"id\":\"1139\",\"type\":\"CategoricalTicker\"},{\"attributes\":{\"axis_line_color\":null,\"coordinates\":null,\"formatter\":{\"id\":\"1184\"},\"group\":null,\"major_label_policy\":{\"id\":\"1185\"},\"major_label_standoff\":0,\"major_label_text_font_size\":\"7px\",\"major_tick_line_color\":null,\"ticker\":{\"id\":\"1142\"}},\"id\":\"1141\",\"type\":\"CategoricalAxis\"},{\"attributes\":{},\"id\":\"1134\",\"type\":\"CategoricalScale\"},{\"attributes\":{\"fill_color\":{\"field\":\"values\",\"transform\":{\"id\":\"1125\"}},\"height\":{\"value\":0.95},\"line_color\":{\"value\":null},\"width\":{\"value\":0.95},\"x\":{\"field\":\"a\"},\"y\":{\"field\":\"b\"}},\"id\":\"1157\",\"type\":\"Rect\"},{\"attributes\":{},\"id\":\"1136\",\"type\":\"CategoricalScale\"},{\"attributes\":{},\"id\":\"1192\",\"type\":\"UnionRenderers\"},{\"attributes\":{\"coordinates\":null,\"data_source\":{\"id\":\"1126\"},\"glyph\":{\"id\":\"1157\"},\"group\":null,\"hover_glyph\":null,\"muted_glyph\":{\"id\":\"1159\"},\"nonselection_glyph\":{\"id\":\"1158\"},\"view\":{\"id\":\"1161\"}},\"id\":\"1160\",\"type\":\"GlyphRenderer\"},{\"attributes\":{\"source\":{\"id\":\"1126\"}},\"id\":\"1161\",\"type\":\"CDSView\"},{\"attributes\":{\"text_align\":{\"value\":\"center\"},\"text_alpha\":{\"value\":0.1},\"text_baseline\":{\"value\":\"middle\"},\"text_color\":{\"value\":\"black\"},\"x\":{\"field\":\"x\"},\"y\":{\"field\":\"y\"}},\"id\":\"1165\",\"type\":\"Text\"},{\"attributes\":{},\"id\":\"1193\",\"type\":\"Selection\"},{\"attributes\":{},\"id\":\"1148\",\"type\":\"WheelZoomTool\"},{\"attributes\":{\"source\":{\"id\":\"1163\"}},\"id\":\"1168\",\"type\":\"CDSView\"},{\"attributes\":{\"axis_line_color\":null,\"coordinates\":null,\"formatter\":{\"id\":\"1188\"},\"group\":null,\"major_label_policy\":{\"id\":\"1189\"},\"major_label_standoff\":0,\"major_label_text_font_size\":\"7px\",\"major_tick_line_color\":null,\"ticker\":{\"id\":\"1139\"}},\"id\":\"1138\",\"type\":\"CategoricalAxis\"},{\"attributes\":{\"axis\":{\"id\":\"1138\"},\"coordinates\":null,\"grid_line_color\":null,\"group\":null,\"ticker\":null},\"id\":\"1140\",\"type\":\"Grid\"},{\"attributes\":{},\"id\":\"1185\",\"type\":\"AllLabels\"},{\"attributes\":{\"axis\":{\"id\":\"1141\"},\"coordinates\":null,\"dimension\":1,\"grid_line_color\":null,\"group\":null,\"ticker\":null},\"id\":\"1143\",\"type\":\"Grid\"},{\"attributes\":{\"coordinates\":null,\"group\":null,\"text\":\"Intra library replicate correlation of read depths\"},\"id\":\"1130\",\"type\":\"Title\"},{\"attributes\":{\"overlay\":{\"id\":\"1149\"}},\"id\":\"1146\",\"type\":\"BoxZoomTool\"}],\"root_ids\":[\"1129\"]},\"title\":\"Bokeh Application\",\"version\":\"2.4.1\"}};\n  const render_items = [{\"docid\":\"ce60c8ea-067a-4150-b398-55f1db7e6623\",\"root_ids\":[\"1129\"],\"roots\":{\"1129\":\"cf7b1c7b-f604-4f19-b7ee-b1cffcf608d2\"}}];\n  root.Bokeh.embed.embed_items_notebook(docs_json, render_items);\n\n  }\n  if (root.Bokeh !== undefined) {\n    embed_document(root);\n  } else {\n    let attempts = 0;\n    const timer = setInterval(function(root) {\n      if (root.Bokeh !== undefined) {\n        clearInterval(timer);\n        embed_document(root);\n      } else {\n        attempts++;\n        if (attempts > 100) {\n          clearInterval(timer);\n          console.log(\"Bokeh: ERROR: Unable to run BokehJS code because BokehJS library is missing\");\n        }\n      }\n    }, 10, root)\n  }\n})(window);",
      "application/vnd.bokehjs_exec.v0+json": ""
     },
     "metadata": {
      "application/vnd.bokehjs_exec.v0+json": {
       "id": "1129"
      }
     },
     "output_type": "display_data"
    }
   ],
   "source": [
    "# Correlation matrices together\n",
    "get_intra_lib_rep_corr_plot(*corrmats, fig_title=\"Intra library replicate correlation of read depths\")"
   ]
  },
  {
   "cell_type": "markdown",
   "metadata": {},
   "source": [
    "## Merged library statistics"
   ]
  },
  {
   "cell_type": "markdown",
   "metadata": {},
   "source": [
    "### Fraction of Regions of Interest covered by libraries"
   ]
  },
  {
   "cell_type": "code",
   "execution_count": 13,
   "metadata": {},
   "outputs": [],
   "source": [
    "cov_dfs = list(map(get_tsv, (args.input_library_coverage_bed, args.control_library_coverage_bed, args.ko_library_coverage_bed)))\n",
    "col_idx = [6, 6, 6]\n",
    "lib_names = [\"input\", \"control\", \"ko\"]"
   ]
  },
  {
   "cell_type": "code",
   "execution_count": 14,
   "metadata": {},
   "outputs": [],
   "source": [
    "plots = list(starmap(get_fractional_base_coverage_plot, zip(cov_dfs, col_idx, lib_names)))"
   ]
  },
  {
   "cell_type": "code",
   "execution_count": 15,
   "metadata": {},
   "outputs": [
    {
     "data": {
      "text/html": [
       "\n",
       "\n",
       "\n",
       "\n",
       "\n",
       "\n",
       "  <div class=\"bk-root\" id=\"8b8cbbef-335e-47f0-bfac-04260f425950\" data-root-id=\"1398\"></div>\n"
      ]
     },
     "metadata": {},
     "output_type": "display_data"
    },
    {
     "data": {
      "application/javascript": "(function(root) {\n  function embed_document(root) {\n    \n  const docs_json = {\"90761caf-c80c-4d2b-be9e-7bf1d1c3d4dd\":{\"defs\":[],\"roots\":{\"references\":[{\"attributes\":{\"children\":[{\"id\":\"1260\"},{\"id\":\"1306\"},{\"id\":\"1352\"}]},\"id\":\"1398\",\"type\":\"Row\"},{\"attributes\":{\"text_align\":{\"value\":\"center\"},\"text_baseline\":{\"value\":\"middle\"},\"text_color\":{\"value\":\"black\"},\"x\":{\"field\":\"x\"},\"y\":{\"field\":\"y\"}},\"id\":\"1347\",\"type\":\"Text\"},{\"attributes\":{\"text_align\":{\"value\":\"center\"},\"text_alpha\":{\"value\":0.2},\"text_baseline\":{\"value\":\"middle\"},\"text_color\":{\"value\":\"black\"},\"x\":{\"field\":\"x\"},\"y\":{\"field\":\"y\"}},\"id\":\"1349\",\"type\":\"Text\"},{\"attributes\":{\"data\":{\"text\":[8,2,8,7,7,12,16,43,60,45868],\"x\":{\"__ndarray__\":\"mpmZmZmZqT80MzMzMzPDPwAAAAAAANA/Z2ZmZmZm1j/NzMzMzMzcP5qZmZmZmeE/zszMzMzM5D8BAAAAAADoPzQzMzMzM+s/Z2ZmZmZm7j8=\",\"dtype\":\"float64\",\"order\":\"little\",\"shape\":[10]},\"y\":[1008,1002,1008,1007,1007,1012,1016,1043,1060,46868]},\"selected\":{\"id\":\"1451\"},\"selection_policy\":{\"id\":\"1450\"}},\"id\":\"1346\",\"type\":\"ColumnDataSource\"},{\"attributes\":{\"coordinates\":null,\"data_source\":{\"id\":\"1346\"},\"glyph\":{\"id\":\"1347\"},\"group\":null,\"hover_glyph\":null,\"muted_glyph\":{\"id\":\"1349\"},\"nonselection_glyph\":{\"id\":\"1348\"},\"view\":{\"id\":\"1351\"}},\"id\":\"1350\",\"type\":\"GlyphRenderer\"},{\"attributes\":{\"source\":{\"id\":\"1346\"}},\"id\":\"1351\",\"type\":\"CDSView\"},{\"attributes\":{\"overlay\":{\"id\":\"1284\"}},\"id\":\"1281\",\"type\":\"BoxZoomTool\"},{\"attributes\":{\"text_align\":{\"value\":\"center\"},\"text_alpha\":{\"value\":0.1},\"text_baseline\":{\"value\":\"middle\"},\"text_color\":{\"value\":\"black\"},\"x\":{\"field\":\"x\"},\"y\":{\"field\":\"y\"}},\"id\":\"1348\",\"type\":\"Text\"},{\"attributes\":{\"ticks\":[0.0,0.1,0.2,0.30000000000000004,0.4,0.5,0.6000000000000001,0.7000000000000001,0.8,0.9,1.0]},\"id\":\"1384\",\"type\":\"FixedTicker\"},{\"attributes\":{\"bottom_units\":\"screen\",\"coordinates\":null,\"fill_alpha\":0.5,\"fill_color\":\"lightgrey\",\"group\":null,\"left_units\":\"screen\",\"level\":\"overlay\",\"line_alpha\":1.0,\"line_color\":\"black\",\"line_dash\":[4,4],\"line_width\":2,\"right_units\":\"screen\",\"syncable\":false,\"top_units\":\"screen\"},\"id\":\"1284\",\"type\":\"BoxAnnotation\"},{\"attributes\":{\"below\":[{\"id\":\"1363\"}],\"center\":[{\"id\":\"1366\"},{\"id\":\"1370\"}],\"height\":400,\"left\":[{\"id\":\"1367\"}],\"renderers\":[{\"id\":\"1390\"},{\"id\":\"1396\"}],\"title\":{\"id\":\"1353\"},\"toolbar\":{\"id\":\"1377\"},\"toolbar_location\":\"left\",\"width\":400,\"x_range\":{\"id\":\"1355\"},\"x_scale\":{\"id\":\"1359\"},\"y_range\":{\"id\":\"1357\"},\"y_scale\":{\"id\":\"1361\"}},\"id\":\"1352\",\"subtype\":\"Figure\",\"type\":\"Plot\"},{\"attributes\":{},\"id\":\"1355\",\"type\":\"DataRange1d\"},{\"attributes\":{},\"id\":\"1357\",\"type\":\"DataRange1d\"},{\"attributes\":{},\"id\":\"1359\",\"type\":\"LinearScale\"},{\"attributes\":{\"fill_alpha\":{\"value\":0.2},\"fill_color\":{\"field\":\"color\"},\"hatch_alpha\":{\"value\":0.2},\"hatch_color\":{\"field\":\"color\"},\"line_alpha\":{\"value\":0.2},\"line_color\":{\"field\":\"color\"},\"top\":{\"field\":\"counts\"},\"width\":{\"value\":0.095},\"x\":{\"field\":\"fraction\"}},\"id\":\"1297\",\"type\":\"VBar\"},{\"attributes\":{},\"id\":\"1434\",\"type\":\"BasicTickFormatter\"},{\"attributes\":{\"coordinates\":null,\"formatter\":{\"id\":\"1441\"},\"group\":null,\"major_label_policy\":{\"id\":\"1442\"},\"major_label_standoff\":0,\"major_label_text_font_size\":\"6px\",\"ticker\":{\"id\":\"1384\"}},\"id\":\"1363\",\"type\":\"LinearAxis\"},{\"attributes\":{\"coordinates\":null,\"formatter\":{\"id\":\"1439\"},\"group\":null,\"major_label_policy\":{\"id\":\"1440\"},\"major_label_standoff\":0,\"major_label_text_font_size\":\"6px\",\"ticker\":{\"id\":\"1368\"}},\"id\":\"1367\",\"type\":\"LinearAxis\"},{\"attributes\":{\"coordinates\":null,\"group\":null,\"text\":\"Fraction of the genomic regions of interest covered \\nby the ko library\"},\"id\":\"1353\",\"type\":\"Title\"},{\"attributes\":{},\"id\":\"1435\",\"type\":\"AllLabels\"},{\"attributes\":{},\"id\":\"1282\",\"type\":\"ResetTool\"},{\"attributes\":{},\"id\":\"1436\",\"type\":\"BasicTickFormatter\"},{\"attributes\":{\"fill_alpha\":{\"value\":0.1},\"fill_color\":{\"field\":\"color\"},\"hatch_alpha\":{\"value\":0.1},\"hatch_color\":{\"field\":\"color\"},\"line_alpha\":{\"value\":0.1},\"line_color\":{\"field\":\"color\"},\"top\":{\"field\":\"counts\"},\"width\":{\"value\":0.095},\"x\":{\"field\":\"fraction\"}},\"id\":\"1388\",\"type\":\"VBar\"},{\"attributes\":{},\"id\":\"1361\",\"type\":\"LinearScale\"},{\"attributes\":{},\"id\":\"1437\",\"type\":\"AllLabels\"},{\"attributes\":{},\"id\":\"1453\",\"type\":\"UnionRenderers\"},{\"attributes\":{\"axis\":{\"id\":\"1363\"},\"coordinates\":null,\"grid_line_color\":null,\"group\":null,\"ticker\":null},\"id\":\"1366\",\"type\":\"Grid\"},{\"attributes\":{\"axis\":{\"id\":\"1367\"},\"coordinates\":null,\"dimension\":1,\"grid_line_color\":null,\"group\":null,\"ticker\":null},\"id\":\"1370\",\"type\":\"Grid\"},{\"attributes\":{},\"id\":\"1454\",\"type\":\"Selection\"},{\"attributes\":{},\"id\":\"1368\",\"type\":\"BasicTicker\"},{\"attributes\":{\"overlay\":{\"id\":\"1376\"}},\"id\":\"1373\",\"type\":\"BoxZoomTool\"},{\"attributes\":{},\"id\":\"1372\",\"type\":\"PanTool\"},{\"attributes\":{},\"id\":\"1371\",\"type\":\"SaveTool\"},{\"attributes\":{\"bottom_units\":\"screen\",\"coordinates\":null,\"fill_alpha\":0.5,\"fill_color\":\"lightgrey\",\"group\":null,\"left_units\":\"screen\",\"level\":\"overlay\",\"line_alpha\":1.0,\"line_color\":\"black\",\"line_dash\":[4,4],\"line_width\":2,\"right_units\":\"screen\",\"syncable\":false,\"top_units\":\"screen\"},\"id\":\"1376\",\"type\":\"BoxAnnotation\"},{\"attributes\":{},\"id\":\"1374\",\"type\":\"ResetTool\"},{\"attributes\":{},\"id\":\"1375\",\"type\":\"WheelZoomTool\"},{\"attributes\":{\"coordinates\":null,\"data_source\":{\"id\":\"1383\"},\"glyph\":{\"id\":\"1387\"},\"group\":null,\"hover_glyph\":null,\"muted_glyph\":{\"id\":\"1389\"},\"nonselection_glyph\":{\"id\":\"1388\"},\"view\":{\"id\":\"1391\"}},\"id\":\"1390\",\"type\":\"GlyphRenderer\"},{\"attributes\":{\"coordinates\":null,\"formatter\":{\"id\":\"1431\"},\"group\":null,\"major_label_policy\":{\"id\":\"1432\"},\"major_label_standoff\":0,\"major_label_text_font_size\":\"6px\",\"ticker\":{\"id\":\"1292\"}},\"id\":\"1271\",\"type\":\"LinearAxis\"},{\"attributes\":{\"fill_color\":{\"field\":\"color\"},\"hatch_color\":{\"field\":\"color\"},\"line_color\":{\"field\":\"color\"},\"top\":{\"field\":\"counts\"},\"width\":{\"value\":0.095},\"x\":{\"field\":\"fraction\"}},\"id\":\"1387\",\"type\":\"VBar\"},{\"attributes\":{\"fill_color\":{\"field\":\"color\"},\"hatch_color\":{\"field\":\"color\"},\"line_color\":{\"field\":\"color\"},\"top\":{\"field\":\"counts\"},\"width\":{\"value\":0.095},\"x\":{\"field\":\"fraction\"}},\"id\":\"1295\",\"type\":\"VBar\"},{\"attributes\":{\"coordinates\":null,\"group\":null,\"text\":\"Fraction of the genomic regions of interest covered \\nby the input library\"},\"id\":\"1261\",\"type\":\"Title\"},{\"attributes\":{},\"id\":\"1455\",\"type\":\"UnionRenderers\"},{\"attributes\":{\"axis\":{\"id\":\"1271\"},\"coordinates\":null,\"grid_line_color\":null,\"group\":null,\"ticker\":null},\"id\":\"1274\",\"type\":\"Grid\"},{\"attributes\":{},\"id\":\"1456\",\"type\":\"Selection\"},{\"attributes\":{},\"id\":\"1276\",\"type\":\"BasicTicker\"},{\"attributes\":{\"axis\":{\"id\":\"1275\"},\"coordinates\":null,\"dimension\":1,\"grid_line_color\":null,\"group\":null,\"ticker\":null},\"id\":\"1278\",\"type\":\"Grid\"},{\"attributes\":{},\"id\":\"1279\",\"type\":\"SaveTool\"},{\"attributes\":{\"text_align\":{\"value\":\"center\"},\"text_alpha\":{\"value\":0.1},\"text_baseline\":{\"value\":\"middle\"},\"text_color\":{\"value\":\"black\"},\"x\":{\"field\":\"x\"},\"y\":{\"field\":\"y\"}},\"id\":\"1394\",\"type\":\"Text\"},{\"attributes\":{},\"id\":\"1280\",\"type\":\"PanTool\"},{\"attributes\":{\"source\":{\"id\":\"1392\"}},\"id\":\"1397\",\"type\":\"CDSView\"},{\"attributes\":{\"coordinates\":null,\"data_source\":{\"id\":\"1392\"},\"glyph\":{\"id\":\"1393\"},\"group\":null,\"hover_glyph\":null,\"muted_glyph\":{\"id\":\"1395\"},\"nonselection_glyph\":{\"id\":\"1394\"},\"view\":{\"id\":\"1397\"}},\"id\":\"1396\",\"type\":\"GlyphRenderer\"},{\"attributes\":{},\"id\":\"1439\",\"type\":\"BasicTickFormatter\"},{\"attributes\":{\"data\":{\"text\":[5,6,6,7,8,12,14,31,60,45882],\"x\":{\"__ndarray__\":\"mpmZmZmZqT80MzMzMzPDPwAAAAAAANA/Z2ZmZmZm1j/NzMzMzMzcP5qZmZmZmeE/zszMzMzM5D8BAAAAAADoPzQzMzMzM+s/Z2ZmZmZm7j8=\",\"dtype\":\"float64\",\"order\":\"little\",\"shape\":[10]},\"y\":[1005,1006,1006,1007,1008,1012,1014,1031,1060,46882]},\"selected\":{\"id\":\"1456\"},\"selection_policy\":{\"id\":\"1455\"}},\"id\":\"1392\",\"type\":\"ColumnDataSource\"},{\"attributes\":{},\"id\":\"1440\",\"type\":\"AllLabels\"},{\"attributes\":{\"fill_alpha\":{\"value\":0.2},\"fill_color\":{\"field\":\"color\"},\"hatch_alpha\":{\"value\":0.2},\"hatch_color\":{\"field\":\"color\"},\"line_alpha\":{\"value\":0.2},\"line_color\":{\"field\":\"color\"},\"top\":{\"field\":\"counts\"},\"width\":{\"value\":0.095},\"x\":{\"field\":\"fraction\"}},\"id\":\"1389\",\"type\":\"VBar\"},{\"attributes\":{},\"id\":\"1441\",\"type\":\"BasicTickFormatter\"},{\"attributes\":{},\"id\":\"1283\",\"type\":\"WheelZoomTool\"},{\"attributes\":{},\"id\":\"1442\",\"type\":\"AllLabels\"},{\"attributes\":{\"source\":{\"id\":\"1383\"}},\"id\":\"1391\",\"type\":\"CDSView\"},{\"attributes\":{\"text_align\":{\"value\":\"center\"},\"text_baseline\":{\"value\":\"middle\"},\"text_color\":{\"value\":\"black\"},\"x\":{\"field\":\"x\"},\"y\":{\"field\":\"y\"}},\"id\":\"1393\",\"type\":\"Text\"},{\"attributes\":{\"text_align\":{\"value\":\"center\"},\"text_alpha\":{\"value\":0.2},\"text_baseline\":{\"value\":\"middle\"},\"text_color\":{\"value\":\"black\"},\"x\":{\"field\":\"x\"},\"y\":{\"field\":\"y\"}},\"id\":\"1395\",\"type\":\"Text\"},{\"attributes\":{},\"id\":\"1443\",\"type\":\"UnionRenderers\"},{\"attributes\":{\"fill_alpha\":{\"value\":0.1},\"fill_color\":{\"field\":\"color\"},\"hatch_alpha\":{\"value\":0.1},\"hatch_color\":{\"field\":\"color\"},\"line_alpha\":{\"value\":0.1},\"line_color\":{\"field\":\"color\"},\"top\":{\"field\":\"counts\"},\"width\":{\"value\":0.095},\"x\":{\"field\":\"fraction\"}},\"id\":\"1296\",\"type\":\"VBar\"},{\"attributes\":{},\"id\":\"1444\",\"type\":\"Selection\"},{\"attributes\":{\"data\":{\"text\":[3,1,1,4,4,9,13,24,40,45932],\"x\":{\"__ndarray__\":\"mpmZmZmZqT80MzMzMzPDPwAAAAAAANA/Z2ZmZmZm1j/NzMzMzMzcP5qZmZmZmeE/zszMzMzM5D8BAAAAAADoPzQzMzMzM+s/Z2ZmZmZm7j8=\",\"dtype\":\"float64\",\"order\":\"little\",\"shape\":[10]},\"y\":[1003,1001,1001,1004,1004,1009,1013,1024,1040,46932]},\"selected\":{\"id\":\"1446\"},\"selection_policy\":{\"id\":\"1445\"}},\"id\":\"1300\",\"type\":\"ColumnDataSource\"},{\"attributes\":{\"coordinates\":null,\"data_source\":{\"id\":\"1291\"},\"glyph\":{\"id\":\"1295\"},\"group\":null,\"hover_glyph\":null,\"muted_glyph\":{\"id\":\"1297\"},\"nonselection_glyph\":{\"id\":\"1296\"},\"view\":{\"id\":\"1299\"}},\"id\":\"1298\",\"type\":\"GlyphRenderer\"},{\"attributes\":{\"below\":[{\"id\":\"1317\"}],\"center\":[{\"id\":\"1320\"},{\"id\":\"1324\"}],\"height\":400,\"left\":[{\"id\":\"1321\"}],\"renderers\":[{\"id\":\"1344\"},{\"id\":\"1350\"}],\"title\":{\"id\":\"1307\"},\"toolbar\":{\"id\":\"1331\"},\"toolbar_location\":\"left\",\"width\":400,\"x_range\":{\"id\":\"1309\"},\"x_scale\":{\"id\":\"1313\"},\"y_range\":{\"id\":\"1311\"},\"y_scale\":{\"id\":\"1315\"}},\"id\":\"1306\",\"subtype\":\"Figure\",\"type\":\"Plot\"},{\"attributes\":{},\"id\":\"1309\",\"type\":\"DataRange1d\"},{\"attributes\":{\"data\":{\"color\":[\"#5e4fa2\",\"#3288bd\",\"#66c2a5\",\"#abdda4\",\"#e6f598\",\"#fee08b\",\"#fdae61\",\"#f46d43\",\"#d53e4f\",\"#9e0142\"],\"counts\":[3,1,1,4,4,9,13,24,40,45932],\"fraction\":{\"__ndarray__\":\"mpmZmZmZqT80MzMzMzPDPwAAAAAAANA/Z2ZmZmZm1j/NzMzMzMzcP5qZmZmZmeE/zszMzMzM5D8BAAAAAADoPzQzMzMzM+s/Z2ZmZmZm7j8=\",\"dtype\":\"float64\",\"order\":\"little\",\"shape\":[10]}},\"selected\":{\"id\":\"1444\"},\"selection_policy\":{\"id\":\"1443\"}},\"id\":\"1291\",\"type\":\"ColumnDataSource\"},{\"attributes\":{\"ticks\":[0.0,0.1,0.2,0.30000000000000004,0.4,0.5,0.6000000000000001,0.7000000000000001,0.8,0.9,1.0]},\"id\":\"1338\",\"type\":\"FixedTicker\"},{\"attributes\":{\"tools\":[{\"id\":\"1279\"},{\"id\":\"1280\"},{\"id\":\"1281\"},{\"id\":\"1282\"},{\"id\":\"1283\"}]},\"id\":\"1285\",\"type\":\"Toolbar\"},{\"attributes\":{},\"id\":\"1311\",\"type\":\"DataRange1d\"},{\"attributes\":{},\"id\":\"1313\",\"type\":\"LinearScale\"},{\"attributes\":{\"coordinates\":null,\"formatter\":{\"id\":\"1436\"},\"group\":null,\"major_label_policy\":{\"id\":\"1437\"},\"major_label_standoff\":0,\"major_label_text_font_size\":\"6px\",\"ticker\":{\"id\":\"1338\"}},\"id\":\"1317\",\"type\":\"LinearAxis\"},{\"attributes\":{\"coordinates\":null,\"formatter\":{\"id\":\"1434\"},\"group\":null,\"major_label_policy\":{\"id\":\"1435\"},\"major_label_standoff\":0,\"major_label_text_font_size\":\"6px\",\"ticker\":{\"id\":\"1322\"}},\"id\":\"1321\",\"type\":\"LinearAxis\"},{\"attributes\":{\"coordinates\":null,\"group\":null,\"text\":\"Fraction of the genomic regions of interest covered \\nby the control library\"},\"id\":\"1307\",\"type\":\"Title\"},{\"attributes\":{\"fill_alpha\":{\"value\":0.1},\"fill_color\":{\"field\":\"color\"},\"hatch_alpha\":{\"value\":0.1},\"hatch_color\":{\"field\":\"color\"},\"line_alpha\":{\"value\":0.1},\"line_color\":{\"field\":\"color\"},\"top\":{\"field\":\"counts\"},\"width\":{\"value\":0.095},\"x\":{\"field\":\"fraction\"}},\"id\":\"1342\",\"type\":\"VBar\"},{\"attributes\":{},\"id\":\"1315\",\"type\":\"LinearScale\"},{\"attributes\":{},\"id\":\"1445\",\"type\":\"UnionRenderers\"},{\"attributes\":{\"axis\":{\"id\":\"1317\"},\"coordinates\":null,\"grid_line_color\":null,\"group\":null,\"ticker\":null},\"id\":\"1320\",\"type\":\"Grid\"},{\"attributes\":{},\"id\":\"1446\",\"type\":\"Selection\"},{\"attributes\":{\"axis\":{\"id\":\"1321\"},\"coordinates\":null,\"dimension\":1,\"grid_line_color\":null,\"group\":null,\"ticker\":null},\"id\":\"1324\",\"type\":\"Grid\"},{\"attributes\":{},\"id\":\"1322\",\"type\":\"BasicTicker\"},{\"attributes\":{\"overlay\":{\"id\":\"1330\"}},\"id\":\"1327\",\"type\":\"BoxZoomTool\"},{\"attributes\":{\"text_align\":{\"value\":\"center\"},\"text_baseline\":{\"value\":\"middle\"},\"text_color\":{\"value\":\"black\"},\"x\":{\"field\":\"x\"},\"y\":{\"field\":\"y\"}},\"id\":\"1301\",\"type\":\"Text\"},{\"attributes\":{\"source\":{\"id\":\"1291\"}},\"id\":\"1299\",\"type\":\"CDSView\"},{\"attributes\":{\"tools\":[{\"id\":\"1325\"},{\"id\":\"1326\"},{\"id\":\"1327\"},{\"id\":\"1328\"},{\"id\":\"1329\"}]},\"id\":\"1331\",\"type\":\"Toolbar\"},{\"attributes\":{},\"id\":\"1263\",\"type\":\"DataRange1d\"},{\"attributes\":{\"ticks\":[0.0,0.1,0.2,0.30000000000000004,0.4,0.5,0.6000000000000001,0.7000000000000001,0.8,0.9,1.0]},\"id\":\"1292\",\"type\":\"FixedTicker\"},{\"attributes\":{},\"id\":\"1326\",\"type\":\"PanTool\"},{\"attributes\":{},\"id\":\"1267\",\"type\":\"LinearScale\"},{\"attributes\":{},\"id\":\"1325\",\"type\":\"SaveTool\"},{\"attributes\":{\"bottom_units\":\"screen\",\"coordinates\":null,\"fill_alpha\":0.5,\"fill_color\":\"lightgrey\",\"group\":null,\"left_units\":\"screen\",\"level\":\"overlay\",\"line_alpha\":1.0,\"line_color\":\"black\",\"line_dash\":[4,4],\"line_width\":2,\"right_units\":\"screen\",\"syncable\":false,\"top_units\":\"screen\"},\"id\":\"1330\",\"type\":\"BoxAnnotation\"},{\"attributes\":{},\"id\":\"1328\",\"type\":\"ResetTool\"},{\"attributes\":{},\"id\":\"1329\",\"type\":\"WheelZoomTool\"},{\"attributes\":{},\"id\":\"1269\",\"type\":\"LinearScale\"},{\"attributes\":{\"source\":{\"id\":\"1337\"}},\"id\":\"1345\",\"type\":\"CDSView\"},{\"attributes\":{\"fill_color\":{\"field\":\"color\"},\"hatch_color\":{\"field\":\"color\"},\"line_color\":{\"field\":\"color\"},\"top\":{\"field\":\"counts\"},\"width\":{\"value\":0.095},\"x\":{\"field\":\"fraction\"}},\"id\":\"1341\",\"type\":\"VBar\"},{\"attributes\":{\"fill_alpha\":{\"value\":0.2},\"fill_color\":{\"field\":\"color\"},\"hatch_alpha\":{\"value\":0.2},\"hatch_color\":{\"field\":\"color\"},\"line_alpha\":{\"value\":0.2},\"line_color\":{\"field\":\"color\"},\"top\":{\"field\":\"counts\"},\"width\":{\"value\":0.095},\"x\":{\"field\":\"fraction\"}},\"id\":\"1343\",\"type\":\"VBar\"},{\"attributes\":{\"text_align\":{\"value\":\"center\"},\"text_alpha\":{\"value\":0.2},\"text_baseline\":{\"value\":\"middle\"},\"text_color\":{\"value\":\"black\"},\"x\":{\"field\":\"x\"},\"y\":{\"field\":\"y\"}},\"id\":\"1303\",\"type\":\"Text\"},{\"attributes\":{},\"id\":\"1265\",\"type\":\"DataRange1d\"},{\"attributes\":{\"coordinates\":null,\"formatter\":{\"id\":\"1429\"},\"group\":null,\"major_label_policy\":{\"id\":\"1430\"},\"major_label_standoff\":0,\"major_label_text_font_size\":\"6px\",\"ticker\":{\"id\":\"1276\"}},\"id\":\"1275\",\"type\":\"LinearAxis\"},{\"attributes\":{},\"id\":\"1448\",\"type\":\"UnionRenderers\"},{\"attributes\":{},\"id\":\"1429\",\"type\":\"BasicTickFormatter\"},{\"attributes\":{},\"id\":\"1449\",\"type\":\"Selection\"},{\"attributes\":{\"coordinates\":null,\"data_source\":{\"id\":\"1337\"},\"glyph\":{\"id\":\"1341\"},\"group\":null,\"hover_glyph\":null,\"muted_glyph\":{\"id\":\"1343\"},\"nonselection_glyph\":{\"id\":\"1342\"},\"view\":{\"id\":\"1345\"}},\"id\":\"1344\",\"type\":\"GlyphRenderer\"},{\"attributes\":{\"tools\":[{\"id\":\"1371\"},{\"id\":\"1372\"},{\"id\":\"1373\"},{\"id\":\"1374\"},{\"id\":\"1375\"}]},\"id\":\"1377\",\"type\":\"Toolbar\"},{\"attributes\":{},\"id\":\"1430\",\"type\":\"AllLabels\"},{\"attributes\":{},\"id\":\"1431\",\"type\":\"BasicTickFormatter\"},{\"attributes\":{},\"id\":\"1432\",\"type\":\"AllLabels\"},{\"attributes\":{\"data\":{\"color\":[\"#5e4fa2\",\"#3288bd\",\"#66c2a5\",\"#abdda4\",\"#e6f598\",\"#fee08b\",\"#fdae61\",\"#f46d43\",\"#d53e4f\",\"#9e0142\"],\"counts\":[5,6,6,7,8,12,14,31,60,45882],\"fraction\":{\"__ndarray__\":\"mpmZmZmZqT80MzMzMzPDPwAAAAAAANA/Z2ZmZmZm1j/NzMzMzMzcP5qZmZmZmeE/zszMzMzM5D8BAAAAAADoPzQzMzMzM+s/Z2ZmZmZm7j8=\",\"dtype\":\"float64\",\"order\":\"little\",\"shape\":[10]}},\"selected\":{\"id\":\"1454\"},\"selection_policy\":{\"id\":\"1453\"}},\"id\":\"1383\",\"type\":\"ColumnDataSource\"},{\"attributes\":{\"coordinates\":null,\"data_source\":{\"id\":\"1300\"},\"glyph\":{\"id\":\"1301\"},\"group\":null,\"hover_glyph\":null,\"muted_glyph\":{\"id\":\"1303\"},\"nonselection_glyph\":{\"id\":\"1302\"},\"view\":{\"id\":\"1305\"}},\"id\":\"1304\",\"type\":\"GlyphRenderer\"},{\"attributes\":{\"source\":{\"id\":\"1300\"}},\"id\":\"1305\",\"type\":\"CDSView\"},{\"attributes\":{\"text_align\":{\"value\":\"center\"},\"text_alpha\":{\"value\":0.1},\"text_baseline\":{\"value\":\"middle\"},\"text_color\":{\"value\":\"black\"},\"x\":{\"field\":\"x\"},\"y\":{\"field\":\"y\"}},\"id\":\"1302\",\"type\":\"Text\"},{\"attributes\":{},\"id\":\"1450\",\"type\":\"UnionRenderers\"},{\"attributes\":{\"data\":{\"color\":[\"#5e4fa2\",\"#3288bd\",\"#66c2a5\",\"#abdda4\",\"#e6f598\",\"#fee08b\",\"#fdae61\",\"#f46d43\",\"#d53e4f\",\"#9e0142\"],\"counts\":[8,2,8,7,7,12,16,43,60,45868],\"fraction\":{\"__ndarray__\":\"mpmZmZmZqT80MzMzMzPDPwAAAAAAANA/Z2ZmZmZm1j/NzMzMzMzcP5qZmZmZmeE/zszMzMzM5D8BAAAAAADoPzQzMzMzM+s/Z2ZmZmZm7j8=\",\"dtype\":\"float64\",\"order\":\"little\",\"shape\":[10]}},\"selected\":{\"id\":\"1449\"},\"selection_policy\":{\"id\":\"1448\"}},\"id\":\"1337\",\"type\":\"ColumnDataSource\"},{\"attributes\":{},\"id\":\"1451\",\"type\":\"Selection\"},{\"attributes\":{\"below\":[{\"id\":\"1271\"}],\"center\":[{\"id\":\"1274\"},{\"id\":\"1278\"}],\"height\":400,\"left\":[{\"id\":\"1275\"}],\"renderers\":[{\"id\":\"1298\"},{\"id\":\"1304\"}],\"title\":{\"id\":\"1261\"},\"toolbar\":{\"id\":\"1285\"},\"toolbar_location\":\"left\",\"width\":400,\"x_range\":{\"id\":\"1263\"},\"x_scale\":{\"id\":\"1267\"},\"y_range\":{\"id\":\"1265\"},\"y_scale\":{\"id\":\"1269\"}},\"id\":\"1260\",\"subtype\":\"Figure\",\"type\":\"Plot\"}],\"root_ids\":[\"1398\"]},\"title\":\"Bokeh Application\",\"version\":\"2.4.1\"}};\n  const render_items = [{\"docid\":\"90761caf-c80c-4d2b-be9e-7bf1d1c3d4dd\",\"root_ids\":[\"1398\"],\"roots\":{\"1398\":\"8b8cbbef-335e-47f0-bfac-04260f425950\"}}];\n  root.Bokeh.embed.embed_items_notebook(docs_json, render_items);\n\n  }\n  if (root.Bokeh !== undefined) {\n    embed_document(root);\n  } else {\n    let attempts = 0;\n    const timer = setInterval(function(root) {\n      if (root.Bokeh !== undefined) {\n        clearInterval(timer);\n        embed_document(root);\n      } else {\n        attempts++;\n        if (attempts > 100) {\n          clearInterval(timer);\n          console.log(\"Bokeh: ERROR: Unable to run BokehJS code because BokehJS library is missing\");\n        }\n      }\n    }, 10, root)\n  }\n})(window);",
      "application/vnd.bokehjs_exec.v0+json": ""
     },
     "metadata": {
      "application/vnd.bokehjs_exec.v0+json": {
       "id": "1398"
      }
     },
     "output_type": "display_data"
    }
   ],
   "source": [
    "show(row(*plots))"
   ]
  },
  {
   "cell_type": "markdown",
   "metadata": {},
   "source": [
    "### Base pair wise coverage\n",
    "\n",
    "1. Average reads assigned to each base pair of a region of interest\n",
    "2. Coverage info = (number of reads * read length / genomic size)"
   ]
  },
  {
   "cell_type": "code",
   "execution_count": 16,
   "metadata": {},
   "outputs": [],
   "source": [
    "depth_dfs = list(map(get_tsv, (args.input_library_depth_bed, args.control_library_depth_bed, args.ko_library_depth_bed)))"
   ]
  },
  {
   "cell_type": "code",
   "execution_count": 20,
   "metadata": {},
   "outputs": [
    {
     "name": "stdout",
     "output_type": "stream",
     "text": [
      "----input library stats----\n",
      "\n",
      "Number of Bases which have at least 50 reads assigned to it: 32167665\n",
      "Total number of Bases in the library: 32963604\n",
      "Percentage of Bases which have greater than 50 reads assigned to it: 0.9758540055268229\n",
      "\n",
      "----control library stats----\n",
      "\n",
      "Number of Bases which have at least 50 reads assigned to it: 29651356\n",
      "Total number of Bases in the library: 32963604\n",
      "Percentage of Bases which have greater than 50 reads assigned to it: 0.8995180260022538\n",
      "\n",
      "----ko library stats----\n",
      "\n",
      "Number of Bases which have at least 50 reads assigned to it: 30003053\n",
      "Total number of Bases in the library: 32963604\n",
      "Percentage of Bases which have greater than 50 reads assigned to it: 0.9101872780658329\n",
      "\n"
     ]
    },
    {
     "data": {
      "text/plain": [
       "[None, None, None]"
      ]
     },
     "execution_count": 20,
     "metadata": {},
     "output_type": "execute_result"
    }
   ],
   "source": [
    "list(starmap(print_library_bp_coverage_stats, zip(depth_dfs, lib_names)))"
   ]
  },
  {
   "cell_type": "code",
   "execution_count": null,
   "metadata": {},
   "outputs": [],
   "source": []
  }
 ],
 "metadata": {
  "interpreter": {
   "hash": "241e687e2a6674f2e504bb42d794692c309af558d00106a9753b31f4422e62b4"
  },
  "kernelspec": {
   "display_name": "Python 3.9.7 64-bit ('starrseq': conda)",
   "name": "python3"
  },
  "language_info": {
   "codemirror_mode": {
    "name": "ipython",
    "version": 3
   },
   "file_extension": ".py",
   "mimetype": "text/x-python",
   "name": "python",
   "nbconvert_exporter": "python",
   "pygments_lexer": "ipython3",
   "version": "3.9.7"
  },
  "orig_nbformat": 4
 },
 "nbformat": 4,
 "nbformat_minor": 2
}
